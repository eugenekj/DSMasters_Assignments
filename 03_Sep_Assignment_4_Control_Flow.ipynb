{
 "cells": [
  {
   "cell_type": "code",
   "execution_count": 1,
   "id": "1f737870-38b4-49ff-b225-ecf1d263a24e",
   "metadata": {},
   "outputs": [],
   "source": [
    "## Control FLow"
   ]
  },
  {
   "cell_type": "code",
   "execution_count": 2,
   "id": "b81af18e-5e54-447a-8e1e-f3bba62774a0",
   "metadata": {},
   "outputs": [
    {
     "name": "stdin",
     "output_type": "stream",
     "text": [
      "Enter the number -8\n"
     ]
    },
    {
     "name": "stdout",
     "output_type": "stream",
     "text": [
      "Negative\n"
     ]
    }
   ],
   "source": [
    "# 1. Write a Python program to check if a given number is positive or negative\n",
    "n = float(input(\"Enter the number\"))\n",
    "if n > 0:\n",
    "    print(\"Positive\")\n",
    "else:\n",
    "    print(\"Negative\")"
   ]
  },
  {
   "cell_type": "code",
   "execution_count": 3,
   "id": "7cdcbd03-7dac-4125-92ee-607e52b00351",
   "metadata": {},
   "outputs": [
    {
     "name": "stdin",
     "output_type": "stream",
     "text": [
      "Enter the age 23\n"
     ]
    },
    {
     "name": "stdout",
     "output_type": "stream",
     "text": [
      "Valid age for voting\n"
     ]
    }
   ],
   "source": [
    "# 2. Create a program that determines if a person is eligible to vote based on their age\n",
    "age = float(input(\"Enter the age\"))\n",
    "if age >= 18:\n",
    "    print(\"Valid age for voting\")\n",
    "else:\n",
    "    print(\"Not valid age for voting\")"
   ]
  },
  {
   "cell_type": "code",
   "execution_count": 7,
   "id": "76aa443b-de05-47fc-b400-f811db521192",
   "metadata": {},
   "outputs": [
    {
     "name": "stdin",
     "output_type": "stream",
     "text": [
      "Enter the 1st number 22\n",
      "Enter the 2nd number 21\n"
     ]
    },
    {
     "name": "stdout",
     "output_type": "stream",
     "text": [
      "22.0 is greater than  21.0\n"
     ]
    }
   ],
   "source": [
    "# 3. Develop a program to find the maximum of two numbers using if-else statements\n",
    "n1 = float(input(\"Enter the 1st number\"))\n",
    "n2 = float(input(\"Enter the 2nd number\"))\n",
    "if n1 > n2:\n",
    "    print(n1, \"is greater than \", n2)\n",
    "else:\n",
    "    print(n2, \" is greater than \" , n1)"
   ]
  },
  {
   "cell_type": "code",
   "execution_count": 30,
   "id": "190cd90a-81cf-490d-9a7f-1fedd03f79f2",
   "metadata": {},
   "outputs": [
    {
     "name": "stdin",
     "output_type": "stream",
     "text": [
      "Enter the year 2200\n"
     ]
    },
    {
     "name": "stdout",
     "output_type": "stream",
     "text": [
      "2200 is not a leap year\n"
     ]
    }
   ],
   "source": [
    "# 4. Write a Python script to classify a given year as a leap year or not.\n",
    "yr = int(input(\"Enter the year\"))\n",
    "if (yr % 400 == 0) and (yr % 100 == 0):  ## century year\n",
    "    print(\"{0} is a leap year\".format(yr))\n",
    "elif (yr % 4 ==0) and (yr % 100 != 0):  ## not a century year and divided by 4\n",
    "    print(\"{0} is a leap year\".format(yr))\n",
    "else:\n",
    "    print(\"{0} is not a leap year\".format(yr))"
   ]
  },
  {
   "cell_type": "code",
   "execution_count": 11,
   "id": "7dfbbff7-8e24-4545-99c3-b4e1528d0f7f",
   "metadata": {},
   "outputs": [
    {
     "name": "stdin",
     "output_type": "stream",
     "text": [
      "Enter the character a\n"
     ]
    },
    {
     "name": "stdout",
     "output_type": "stream",
     "text": [
      "Vowel\n"
     ]
    }
   ],
   "source": [
    "# 5. Create a program that checks whether a character is a vowel or a consonant.\n",
    "c = input(\"Enter the character\")\n",
    "if c.lower() in ('a','e','i','o','u'):\n",
    "    print(\"Vowel\")\n",
    "else:\n",
    "    print(\"Consonant\")"
   ]
  },
  {
   "cell_type": "code",
   "execution_count": 12,
   "id": "8eaf2576-296f-4018-9fde-49b42580120a",
   "metadata": {},
   "outputs": [
    {
     "name": "stdin",
     "output_type": "stream",
     "text": [
      "Enter the number 10\n"
     ]
    },
    {
     "name": "stdout",
     "output_type": "stream",
     "text": [
      "Even\n"
     ]
    }
   ],
   "source": [
    "#.6. Implement a program to determine whether a given number is even or odd.\n",
    "n = int(input(\"Enter the number\"))\n",
    "if (n%2 == 0):\n",
    "    print(\"Even\")\n",
    "else:\n",
    "    print(\"Odd\")"
   ]
  },
  {
   "cell_type": "code",
   "execution_count": 13,
   "id": "10713c09-c5b7-46b4-b21d-b74507a42a77",
   "metadata": {},
   "outputs": [
    {
     "name": "stdin",
     "output_type": "stream",
     "text": [
      "Enter the number -8\n"
     ]
    },
    {
     "name": "stdout",
     "output_type": "stream",
     "text": [
      "8\n"
     ]
    }
   ],
   "source": [
    "# 7. Write a Python function to calculate the absolute value of a number without using the `abs()` function.\n",
    "n = int(input(\"Enter the number\"))\n",
    "if n >=0:\n",
    "    print(n)\n",
    "else:\n",
    "    print(-n)"
   ]
  },
  {
   "cell_type": "code",
   "execution_count": 14,
   "id": "fc5e8268-3c57-4171-bcf6-ea9d2e86122e",
   "metadata": {},
   "outputs": [
    {
     "name": "stdin",
     "output_type": "stream",
     "text": [
      "Enter the 1st number 5\n",
      "Enter the 2nd number 2\n",
      "Enter the 3rd number 8\n"
     ]
    },
    {
     "name": "stdout",
     "output_type": "stream",
     "text": [
      "The largest number is  8\n"
     ]
    }
   ],
   "source": [
    "# 8. Develop a program that determines the largest of three given numbers using if-else statements.\n",
    "n1 = int(input(\"Enter the 1st number\"))\n",
    "n2 = int(input(\"Enter the 2nd number\"))\n",
    "n3 = int(input(\"Enter the 3rd number\"))\n",
    "if (n1 >= n2) and (n1 >= n3):\n",
    "   print(\"The largest number is \", n1)\n",
    "elif (n2 >= n1) and (n2 >= n3):\n",
    "   print(\"The largest number is \", n2)\n",
    "else:\n",
    "   print(\"The largest number is \", n3)"
   ]
  },
  {
   "cell_type": "code",
   "execution_count": 18,
   "id": "bb72d6f1-a4e7-48a7-98ed-f1ae206c767b",
   "metadata": {},
   "outputs": [
    {
     "name": "stdin",
     "output_type": "stream",
     "text": [
      "Enter the string malayalam\n"
     ]
    },
    {
     "name": "stdout",
     "output_type": "stream",
     "text": [
      "malayalam is a palindrome\n"
     ]
    }
   ],
   "source": [
    "# 9. Create a program that checks if a given string is a palindrome.\n",
    "s2 = input(\"Enter the string\")\n",
    "revs2 = s2[::-1]\n",
    "if s2 == revs2:\n",
    "    print(s2, \"is a palindrome\")\n",
    "else:\n",
    "    print(s2, \"is not a palindrome\")"
   ]
  },
  {
   "cell_type": "code",
   "execution_count": 20,
   "id": "d61dd917-13c6-4999-a237-aadd0739248c",
   "metadata": {},
   "outputs": [
    {
     "name": "stdin",
     "output_type": "stream",
     "text": [
      "Enter the score 75\n"
     ]
    },
    {
     "name": "stdout",
     "output_type": "stream",
     "text": [
      "Grade:B\n"
     ]
    }
   ],
   "source": [
    "# 10. Write a Python program to calculate the grade based on a student's score.\n",
    "n = int(input(\"Enter the score\"))\n",
    "if n >= 90:\n",
    "    print(\"Grade:A\")\n",
    "elif 75 <= n < 90:\n",
    "    print(\"Grade:B\")\n",
    "elif 60 <= n < 75:\n",
    "    print(\"Grade:C\")\n",
    "elif 40 <= n < 60:\n",
    "    print(\"Grade:D\")\n",
    "else:\n",
    "    print(\"Grade:F\")"
   ]
  },
  {
   "cell_type": "code",
   "execution_count": 21,
   "id": "dd7840d8-2b24-42b9-a8b2-e3202616be45",
   "metadata": {},
   "outputs": [
    {
     "name": "stdin",
     "output_type": "stream",
     "text": [
      "Enter first number: 5\n",
      "Enter second number: 2\n",
      "Enter third number: 8\n"
     ]
    },
    {
     "name": "stdout",
     "output_type": "stream",
     "text": [
      "Greatest is: 8\n"
     ]
    }
   ],
   "source": [
    "# 11. Write a program to find the largest among three numbers using nested if-else statements.\n",
    "n1= int(input(\"Enter first number:\"))\n",
    "n2 = int(input(\"Enter second number:\"))\n",
    "n3 = int(input(\"Enter third number:\"))\n",
    "\n",
    "if n1 > n2:\n",
    "    if n1 > n3:\n",
    "        print(\"Greatest is:\", n1)\n",
    "    else:\n",
    "        print(\"Greatest is:\", n3)\n",
    "else:\n",
    "    if n2 > n3:\n",
    "        print(\"Greatest is:\", n2)\n",
    "    else:\n",
    "        print(\"Greatest is:\", n3)"
   ]
  },
  {
   "cell_type": "code",
   "execution_count": 23,
   "id": "721996c9-f8ab-49f7-a9b0-84f3ea6de466",
   "metadata": {},
   "outputs": [
    {
     "name": "stdin",
     "output_type": "stream",
     "text": [
      "Enter first side: 60\n",
      "Enter second side: 30\n",
      "Enter third side: 30\n"
     ]
    },
    {
     "name": "stdout",
     "output_type": "stream",
     "text": [
      "isosceles triangle\n"
     ]
    }
   ],
   "source": [
    "# 12. Implement a program to determine if a triangle is equilateral, isosceles, or scalene.\n",
    "n1= int(input(\"Enter first side:\"))\n",
    "n2 = int(input(\"Enter second side:\"))\n",
    "n3 = int(input(\"Enter third side:\"))\n",
    "if n1 == n2:\n",
    "    if n1 == n3:\n",
    "        print(\"equilateral triangle\")\n",
    "    else:\n",
    "        print(\"isosceles triangle\")\n",
    "else:\n",
    "    if n1 == n3:\n",
    "        print(\"isosceles triangle\")\n",
    "    elif n2 == n3:\n",
    "        print(\"isosceles triangle\")\n",
    "    else:\n",
    "        print(\"scalene triangle\")\n",
    "    "
   ]
  },
  {
   "cell_type": "code",
   "execution_count": 42,
   "id": "3e830f74-106d-4f5c-89b8-cf4b3b66a661",
   "metadata": {},
   "outputs": [
    {
     "name": "stdin",
     "output_type": "stream",
     "text": [
      "Enter the year 2800\n"
     ]
    },
    {
     "name": "stdout",
     "output_type": "stream",
     "text": [
      "2800 is a leap year and century year\n"
     ]
    }
   ],
   "source": [
    "# 13. Develop a program that checks if a year is a leap year and also if it is a century year.\n",
    "yr = int(input(\"Enter the year\"))\n",
    "if yr % 400 == 0:\n",
    "    if yr % 100 == 0:\n",
    "        print(\"{0} is a leap year and century year\".format(yr))\n",
    "else:\n",
    "    if yr % 4 == 0:\n",
    "        if yr % 100 != 0:\n",
    "            print(\"{0} is a leap year\".format(yr))\n",
    "        else:\n",
    "            print(\"{0} is not a leap year\".format(yr))\n",
    "    else:\n",
    "        print(\"{0} is not a leap year\".format(yr))\n"
   ]
  },
  {
   "cell_type": "code",
   "execution_count": 44,
   "id": "274b98c9-192d-49c2-ab4d-d40f8f993b3d",
   "metadata": {},
   "outputs": [
    {
     "name": "stdin",
     "output_type": "stream",
     "text": [
      "Enter the number 0\n"
     ]
    },
    {
     "name": "stdout",
     "output_type": "stream",
     "text": [
      "Zero\n"
     ]
    }
   ],
   "source": [
    "# 14. Write a Python script to determine if a number is positive, negative, or zero.\n",
    "n = float(input(\"Enter the number\"))\n",
    "if n == 0:\n",
    "    print(\"Zero\")\n",
    "else:\n",
    "    if n > 0:\n",
    "        print(\"Positive\")\n",
    "    else:\n",
    "        print(\"Negative\")\n"
   ]
  },
  {
   "cell_type": "code",
   "execution_count": 46,
   "id": "41a1b3db-410b-4e0c-8fba-8efa8acd897b",
   "metadata": {},
   "outputs": [
    {
     "name": "stdin",
     "output_type": "stream",
     "text": [
      "Enter the age 17\n"
     ]
    },
    {
     "name": "stdout",
     "output_type": "stream",
     "text": [
      "Teenager\n"
     ]
    }
   ],
   "source": [
    "# 15. Create a program to check if a person is a teenager (between 13 and 19 years old).\n",
    "n = int(input(\"Enter the age\"))\n",
    "if n < 0:\n",
    "    print(\"Invalid age\")\n",
    "else:\n",
    "    if 13 <= n <= 19:\n",
    "        print(\"Teenager\")\n",
    "    else:\n",
    "        print(\"Not a teenager\")"
   ]
  },
  {
   "cell_type": "code",
   "execution_count": 47,
   "id": "f6e2b592-2083-4ec9-baa3-3148743725c7",
   "metadata": {},
   "outputs": [
    {
     "name": "stdin",
     "output_type": "stream",
     "text": [
      "Enter the angle 30\n"
     ]
    },
    {
     "name": "stdout",
     "output_type": "stream",
     "text": [
      "Acute angle\n"
     ]
    }
   ],
   "source": [
    "# 16. Develop a program that determines the type of angle based on its measure (acute, obtuse, or right).\n",
    "n = int(input(\"Enter the angle\"))\n",
    "if 0<= n<= 360:\n",
    "    if n == 90:\n",
    "        print(\"Right angle\")\n",
    "    else:\n",
    "        if 0 <=n < 90:\n",
    "            print(\"Acute angle\")\n",
    "        else:\n",
    "            if 90 < n <= 180:\n",
    "                print(\"Obtuse angle\")\n",
    "            else:\n",
    "                print(\"Reflex angle\")\n",
    "else:\n",
    "    print(\"Not valid angle\")"
   ]
  },
  {
   "cell_type": "code",
   "execution_count": 48,
   "id": "4a5d2739-eb84-4ac0-9fc7-3cccda18f52e",
   "metadata": {},
   "outputs": [
    {
     "name": "stdin",
     "output_type": "stream",
     "text": [
      "Input value for a:  9\n",
      "Input value for b:  4\n",
      "Input value for c:  16\n"
     ]
    },
    {
     "name": "stdout",
     "output_type": "stream",
     "text": [
      "Roots are: -0.2222222222222222+i23.664319132398465  and  -0.2222222222222222-i23.664319132398465\n"
     ]
    }
   ],
   "source": [
    "# 17. Write a Python program to calculate the roots of a quadratic equation.\n",
    "## ax2+bx+c=0\n",
    "import math\n",
    "a = int(input(\"Input value for a: \"))\n",
    "b = int(input(\"Input value for b: \"))\n",
    "c = int(input(\"Input value for c: \"))\n",
    "\n",
    "if a == 0:\n",
    "    print(\"Invalid Quad Equation\")\n",
    "else:\n",
    "    d = (b**2)-(4*a*c)\n",
    "    sqroot = math.sqrt(abs(d))\n",
    "    if d == 0:\n",
    "        r1 = -b / (2 * a)\n",
    "        r2 = -b / (2 * a)\n",
    "    else:\n",
    "        if d > 0:\n",
    "            r1 = ((-b + sqroot) / (2 * a))\n",
    "            r2 = ((-b - sqroot) / (2 * a))\n",
    "        else:\n",
    "            r1 = str(- b / (2 * a)) + \"+i\" + str(sqroot)\n",
    "            r2 = str(- b / (2 * a)) + \"-i\" + str(sqroot)\n",
    "print(\"Roots are:\",r1,\" and \",r2)"
   ]
  },
  {
   "cell_type": "code",
   "execution_count": 49,
   "id": "60f37ae3-04ea-4b4b-a6ea-47146e85339a",
   "metadata": {},
   "outputs": [
    {
     "name": "stdin",
     "output_type": "stream",
     "text": [
      "Enter the number (1-7): 7\n"
     ]
    },
    {
     "name": "stdout",
     "output_type": "stream",
     "text": [
      "Sunday\n"
     ]
    }
   ],
   "source": [
    "# 18. Implement a program to determine the day of the week based on a user-provided number (1 for Monday, 2 for Tuesday, etc.).\n",
    "n = int(input(\"Enter the number (1-7):\"))\n",
    "if n == 1:\n",
    "    d = \"Monday\"\n",
    "else:\n",
    "    if n == 2:\n",
    "        d = \"Tuesday\"\n",
    "    else:\n",
    "        if n == 3:\n",
    "            d = \"Wednesday\"\n",
    "        else:\n",
    "            if n == 4:\n",
    "                d = \"Thursday\"\n",
    "            else:\n",
    "                if n == 5:\n",
    "                    d = \"Friday\"\n",
    "                else:\n",
    "                    if n == 6:\n",
    "                        d = \"Saturday\"\n",
    "                    else:\n",
    "                        if n == 7:\n",
    "                            d = \"Sunday\"\n",
    "                        else:\n",
    "                            d = \"Not a valid day\"\n",
    "print(d)"
   ]
  },
  {
   "cell_type": "code",
   "execution_count": 56,
   "id": "16cf48e0-0457-4d75-af5e-77721b639289",
   "metadata": {},
   "outputs": [
    {
     "name": "stdin",
     "output_type": "stream",
     "text": [
      "Enter the year 2020\n"
     ]
    },
    {
     "name": "stdout",
     "output_type": "stream",
     "text": [
      "2020 is leap year and not divisible by 400\n"
     ]
    }
   ],
   "source": [
    "# 19. Create a program that determines if a year is a leap year and also if it is evenly divisible by 400.\n",
    "yr = int(input(\"Enter the year\"))\n",
    "if (yr % 4 == 0):\n",
    "    if (yr % 400 == 0):  \n",
    "        print(\"{0} is a leap year and a divisible by 400\".format(yr))\n",
    "    else:\n",
    "        if (yr % 100 == 0):\n",
    "            print(\"{0} is not leap year\".format(yr))\n",
    "        else:\n",
    "            print(\"{0} is leap year and not divisible by 400\".format(yr))\n",
    "else:\n",
    "    print(\"{0} is not leap year\".format(yr))"
   ]
  },
  {
   "cell_type": "code",
   "execution_count": 57,
   "id": "b539e697-9762-4cc2-8f8f-d46f9963d8d3",
   "metadata": {},
   "outputs": [
    {
     "name": "stdin",
     "output_type": "stream",
     "text": [
      "Enter the number 7\n"
     ]
    },
    {
     "name": "stdout",
     "output_type": "stream",
     "text": [
      "7 is a prime number\n"
     ]
    }
   ],
   "source": [
    "# 20. Develop a program that checks if a given number is prime or not using nested if-else statements.\n",
    "n = int(input(\"Enter the number\"))\n",
    "flag = False\n",
    "if n == 1:\n",
    "    print(n, \"is not a prime number\")\n",
    "else:\n",
    "    if n > 1:\n",
    "        for i in range(2, n):\n",
    "            if (n % i) == 0:\n",
    "                flag = True\n",
    "    if flag:\n",
    "        print(n, \"is not a prime number\")\n",
    "    else:\n",
    "        print(n, \"is a prime number\")"
   ]
  },
  {
   "cell_type": "code",
   "execution_count": null,
   "id": "f83f7ef5-a3d3-4928-81f3-be561c84f9cf",
   "metadata": {},
   "outputs": [],
   "source": [
    "## Elif Statements:"
   ]
  },
  {
   "cell_type": "code",
   "execution_count": 59,
   "id": "c0cf56c5-50b4-45f5-ada8-4882b07358e8",
   "metadata": {},
   "outputs": [
    {
     "name": "stdin",
     "output_type": "stream",
     "text": [
      "Enter the score 75\n"
     ]
    },
    {
     "name": "stdout",
     "output_type": "stream",
     "text": [
      "Grade:B\n"
     ]
    }
   ],
   "source": [
    "# 21. Write a Python program to assign grades based on different ranges of scores using elif statements.\n",
    "n = int(input(\"Enter the score\"))\n",
    "if n >= 90:\n",
    "    print(\"Grade:A\")\n",
    "elif 75 <= n < 90:\n",
    "    print(\"Grade:B\")\n",
    "elif 60 <= n < 75:\n",
    "    print(\"Grade:C\")\n",
    "elif 40 <= n < 60:\n",
    "    print(\"Grade:D\")\n",
    "else:\n",
    "    print(\"Grade:F\")"
   ]
  },
  {
   "cell_type": "code",
   "execution_count": 60,
   "id": "b5cea4a0-8847-4a37-83e7-98e1d5b84448",
   "metadata": {},
   "outputs": [
    {
     "name": "stdin",
     "output_type": "stream",
     "text": [
      "Enter the measure of angle 1: 90\n",
      "Enter the measure of angle 2: 45\n",
      "Enter the measure of angle 3: 45\n"
     ]
    },
    {
     "name": "stdout",
     "output_type": "stream",
     "text": [
      "This is a : Right Triangle\n"
     ]
    }
   ],
   "source": [
    "# 22. Implement a program to determine the type of a triangle based on its angles.\n",
    "ang1 = float(input(\"Enter the measure of angle 1:\"))\n",
    "ang2 = float(input(\"Enter the measure of angle 2:\"))\n",
    "ang3 = float(input(\"Enter the measure of angle 3:\"))\n",
    "if ang1 == 90 or ang2 == 90 or ang3 == 90:\n",
    "    trg = \"Right Triangle\"\n",
    "elif ang1 > 90 or ang2 > 90 or ang3 > 90:\n",
    "    trg = \"Obtuse Triangle\"\n",
    "else:\n",
    "    trg = \"Acute Triangle\"\n",
    "print(\"This is a :\", trg)\n"
   ]
  },
  {
   "cell_type": "code",
   "execution_count": 61,
   "id": "aa1409a3-456f-4c8f-9713-c8d2c1676f33",
   "metadata": {},
   "outputs": [
    {
     "name": "stdin",
     "output_type": "stream",
     "text": [
      "Enter weight in kilograms: 92\n",
      "Enter height in centimeters: 163\n"
     ]
    },
    {
     "name": "stdout",
     "output_type": "stream",
     "text": [
      "Category: Obese Class 1\n"
     ]
    }
   ],
   "source": [
    "# 23. Develop a program to categorize a given person's BMI into underweight, normal, overweight, or obese using  elif statements.\n",
    "wt = float(input(\"Enter weight in kilograms:\"))\n",
    "ht = float(input(\"Enter height in centimeters:\"))\n",
    "bmi = (wt/(ht**2)) * 10000\n",
    "if bmi < 18.5:\n",
    "    category = \"Underweight\"\n",
    "elif 18.5 <= bmi < 25:\n",
    "    category = \"Normal\"\n",
    "elif 25 <= bmi < 30:\n",
    "    category = \"Overweight\"\n",
    "elif 30 <= bmi < 35:\n",
    "    category = \"Obese Class 1\"\n",
    "elif 35 <= bmi < 40:\n",
    "    category = \"Obese Class 2\"\n",
    "elif bmi >= 40:\n",
    "    category = \"Obese Class 3\"\n",
    "print(\"Category:\", category)"
   ]
  },
  {
   "cell_type": "code",
   "execution_count": 62,
   "id": "b8b4dafc-8a5f-4316-b444-f007a3c1bd5f",
   "metadata": {},
   "outputs": [
    {
     "name": "stdin",
     "output_type": "stream",
     "text": [
      "Enter the number 0\n"
     ]
    },
    {
     "name": "stdout",
     "output_type": "stream",
     "text": [
      "Zero\n"
     ]
    }
   ],
   "source": [
    "# 24. Create a program that determines whether a given number is positive, negative, or zero using elif statements.\n",
    "n = float(input(\"Enter the number\"))\n",
    "if n > 0:\n",
    "    print(\"Positive\")\n",
    "elif n < 0:\n",
    "    print(\"Negative\")\n",
    "else:\n",
    "    print(\"Zero\")"
   ]
  },
  {
   "cell_type": "code",
   "execution_count": 63,
   "id": "e35048e9-6cc9-4e8d-ac34-613425c1af25",
   "metadata": {},
   "outputs": [
    {
     "name": "stdin",
     "output_type": "stream",
     "text": [
      "Enter a character: E\n"
     ]
    },
    {
     "name": "stdout",
     "output_type": "stream",
     "text": [
      "The character is Uppercase Character\n"
     ]
    }
   ],
   "source": [
    "# 25. Write a Python script to determine the type of a character (uppercase, lowercase, or special) using elif statements.\n",
    "c = input(\"Enter a character:\")\n",
    "if c.isalpha() and c.islower():\n",
    "    result = \"Lowercase Character\"\n",
    "elif c.isalpha() and c.isupper():\n",
    "    result = \"Uppercase Character\"\n",
    "else:\n",
    "    result = \"Special Character\"\n",
    "print(\"The character is\", result)"
   ]
  },
  {
   "cell_type": "code",
   "execution_count": 64,
   "id": "ef3ee3b7-aa49-48dd-a165-f9d7440d2904",
   "metadata": {},
   "outputs": [
    {
     "name": "stdin",
     "output_type": "stream",
     "text": [
      "Enter the purchase amount: 1500\n"
     ]
    },
    {
     "name": "stdout",
     "output_type": "stream",
     "text": [
      "Discounted Price: 1350.0\n"
     ]
    }
   ],
   "source": [
    "# 26. Implement a program to calculate the discounted price based on different purchase amounts using elif statements.\n",
    "amount = float(input(\"Enter the purchase amount:\"))\n",
    "if amount < 1000:\n",
    "    discount = 0\n",
    "elif 1000 <= amount < 2000:\n",
    "    discount = 10\n",
    "elif 2000 <= amount < 5000:\n",
    "    discount = 25\n",
    "else:\n",
    "    discount = 40\n",
    "price = amount - (amount * discount / 100)\n",
    "print(\"Discounted Price:\", price)"
   ]
  },
  {
   "cell_type": "code",
   "execution_count": 65,
   "id": "593762d7-03e1-4911-97f1-861f12813723",
   "metadata": {},
   "outputs": [
    {
     "name": "stdin",
     "output_type": "stream",
     "text": [
      "Enter the units consumed: 400\n"
     ]
    },
    {
     "name": "stdout",
     "output_type": "stream",
     "text": [
      "Electricity Bill: 1937.5\n"
     ]
    }
   ],
   "source": [
    "# 27. Develop a program to calculate the electricity bill based on different consumption slabs using elif statements.\n",
    "units = float(input(\"Enter the units consumed:\"))\n",
    "if units <= 50:\n",
    "    bill = units * 2.5\n",
    "elif 50 < units <= 100:\n",
    "    bill = (50*2.5) + ((units - 50) * 3.25)\n",
    "elif 100 < units <= 200:\n",
    "    bill = (50*2.5) + (50*3.25) + ((units - 100) * 4.5)\n",
    "else:\n",
    "    bill = (50*2.5) + (50*3.25) + (100*4.50) + ((units - 200) * 6)\n",
    "print(\"Electricity Bill:\", bill)"
   ]
  },
  {
   "cell_type": "code",
   "execution_count": 78,
   "id": "b2399b97-d418-48a6-b1ec-577093db9115",
   "metadata": {},
   "outputs": [
    {
     "name": "stdin",
     "output_type": "stream",
     "text": [
      "Enter the length of side 1: 100\n",
      "Enter the length of side 2: 50\n",
      "Enter the length of side 3: 100\n",
      "Enter the length of side 4: 50\n",
      "Enter the measure of angle 1: 90\n",
      "Enter the measure of angle 2: 90\n",
      "Enter the measure of angle 3: 90\n",
      "Enter the measure of angle 4: 90\n"
     ]
    },
    {
     "name": "stdout",
     "output_type": "stream",
     "text": [
      "Rectangle\n"
     ]
    }
   ],
   "source": [
    "# 28. Create a program to determine the type of quadrilateral based on its angles and sides using elif statements.\n",
    "flag_90deg = 0\n",
    "sum_ang = 0\n",
    "sq_flag = 0\n",
    "length = [float(input(f\"Enter the length of side {i + 1}:\")) for i in range(4)]\n",
    "angles = [float(input(f\"Enter the measure of angle {i + 1}:\")) for i in range(4)]\n",
    "for i in range(4):\n",
    "    if angles[i] == 90:\n",
    "        flag_90deg += 1\n",
    "    sum_ang += angles[i]\n",
    "    if length[i] == length[0]:\n",
    "        sq_flag += 1\n",
    "    \n",
    "if sum_ang == 360:\n",
    "    if sq_flag == 4 and flag_90deg == 4:\n",
    "        print(\"Square\")\n",
    "    elif sq_flag == 4 and flag_90deg == 0:\n",
    "        print(\"Rhombus\")\n",
    "    elif sq_flag < 4 and flag_90deg == 4:\n",
    "        print(\"Rectangle\")\n",
    "    elif flag_90deg < 4 and (length[0] == length[2] or length[1] == length[3]):\n",
    "        print(\"Parallelogram\")\n",
    "    elif flag_90deg < 3 and (length[0] == length[1] or length[2] == length[3]) and (length[0] != length[2]):\n",
    "        if (angles[0] == angles[2] and angles[1] == angles[4]):\n",
    "            print(\"Kite\")        \n",
    "else:\n",
    "    print(\"Not a quadilateral\")\n"
   ]
  },
  {
   "cell_type": "code",
   "execution_count": 79,
   "id": "7c9fd8b6-499d-417d-936c-2954428c0c0b",
   "metadata": {},
   "outputs": [
    {
     "name": "stdin",
     "output_type": "stream",
     "text": [
      "Enter the month in number format: 8\n"
     ]
    },
    {
     "name": "stdout",
     "output_type": "stream",
     "text": [
      "The is Monsoon\n"
     ]
    }
   ],
   "source": [
    "# 29. Write a Python script to determine the season based on a user-provided month using elif statements.\n",
    "mon = int(input(\"Enter the month in number format:\"))\n",
    "if 1 <= mon < 3 or mon == 12:\n",
    "    s = \"Winter\"\n",
    "elif 3 <= mon < 4:\n",
    "    s = \"Spring\"\n",
    "elif 4 <= mon < 7:\n",
    "    s = \"Summer\"\n",
    "elif 7 <= mon < 10:\n",
    "    s = \"Monsoon\"\n",
    "elif 10 <= mon < 12:\n",
    "    s = \"Autumn\"\n",
    "else:\n",
    "    season = \"Invalid Month\"\n",
    "print(\"The is\", s)"
   ]
  },
  {
   "cell_type": "code",
   "execution_count": 81,
   "id": "4c04cf08-5467-45bf-8755-962ae0817aea",
   "metadata": {},
   "outputs": [
    {
     "name": "stdin",
     "output_type": "stream",
     "text": [
      "Enter a year: 2024\n",
      "Enter a month: 2\n"
     ]
    },
    {
     "name": "stdout",
     "output_type": "stream",
     "text": [
      "Leap Year\n",
      "Days in Month: 29\n"
     ]
    }
   ],
   "source": [
    "# 30. Implement a program to determine the type of a year (leap or common) and month (30 or 31 days) using elif statements.\n",
    "yr = int(input(\"Enter a year:\"))\n",
    "mon = int(input(\"Enter a month:\"))\n",
    "if (yr % 4 == 0 and yr % 100 != 0) or (yr % 400 == 0):\n",
    "    leap_flg = True\n",
    "else:\n",
    "    leap_flg = False\n",
    "print(\"Leap\" if leap_flg else \"Common\", \"Year\")\n",
    "if mon in range(1,13):\n",
    "    if mon in [1, 3, 5, 7, 8, 10, 12]:\n",
    "        days_cnt = 31\n",
    "    elif mon in [4, 6, 9, 11]:\n",
    "        days_cnt = 30\n",
    "    else:\n",
    "        if leap_flg:\n",
    "            days_cnt = 29\n",
    "        else:\n",
    "            days_cnt = 28\n",
    "    print(\"Days in Month:\", days_cnt)\n",
    "else:\n",
    "    print(\"Invalid month\")"
   ]
  },
  {
   "cell_type": "code",
   "execution_count": null,
   "id": "9463fd2e-2863-4aba-a2bf-d9e981e6a908",
   "metadata": {},
   "outputs": [],
   "source": [
    "## Basic Level"
   ]
  },
  {
   "cell_type": "code",
   "execution_count": 82,
   "id": "15eb5e8c-82e5-482f-a87a-647a1dfd0873",
   "metadata": {},
   "outputs": [
    {
     "name": "stdin",
     "output_type": "stream",
     "text": [
      "Input the number: -8\n"
     ]
    },
    {
     "name": "stdout",
     "output_type": "stream",
     "text": [
      "Negative\n"
     ]
    }
   ],
   "source": [
    "# 1. Write a Python program that checks if a given number is positive, negative, or zero.\n",
    "n = float(input(\"Input the number:\"))\n",
    "if n > 0 :\n",
    "    print(\"Positive\")\n",
    "elif n < 0 :\n",
    "    print(\"Negative\")\n",
    "else:\n",
    "    print(\"Zero\")"
   ]
  },
  {
   "cell_type": "code",
   "execution_count": 83,
   "id": "f135ab6c-10be-41eb-b20a-2646f32efe3f",
   "metadata": {},
   "outputs": [
    {
     "name": "stdin",
     "output_type": "stream",
     "text": [
      "Input the age: 21\n"
     ]
    },
    {
     "name": "stdout",
     "output_type": "stream",
     "text": [
      "Eligible for voting\n"
     ]
    }
   ],
   "source": [
    "# 2. Create a program to determine if a person is eligible to vote based on their age.\n",
    "age = int(input(\"Input the age:\"))\n",
    "if age >= 18:\n",
    "    print(\"Eligible for voting\")\n",
    "else:\n",
    "    print(\"Not eligible for voting\")"
   ]
  },
  {
   "cell_type": "code",
   "execution_count": 84,
   "id": "b06dc486-a23c-41a4-8b6e-03081d2ca986",
   "metadata": {},
   "outputs": [
    {
     "name": "stdin",
     "output_type": "stream",
     "text": [
      "Enter the 1st number 22\n",
      "Enter the 2nd number 13\n"
     ]
    },
    {
     "name": "stdout",
     "output_type": "stream",
     "text": [
      "22.0 is greater than  13.0\n"
     ]
    }
   ],
   "source": [
    "# 3. Write a program to find the maximum of two given numbers using conditional statements.\n",
    "n1 = float(input(\"Enter the 1st number\"))\n",
    "n2 = float(input(\"Enter the 2nd number\"))\n",
    "if n1 > n2:\n",
    "    print(n1, \"is greater than \", n2)\n",
    "else:\n",
    "    print(n2, \" is greater than \" , n1)"
   ]
  },
  {
   "cell_type": "code",
   "execution_count": 85,
   "id": "4ce6f48c-4d57-4ddf-abb4-5cb2f77f69d5",
   "metadata": {},
   "outputs": [
    {
     "name": "stdin",
     "output_type": "stream",
     "text": [
      "Enter the score 65\n"
     ]
    },
    {
     "name": "stdout",
     "output_type": "stream",
     "text": [
      "Grade:C\n"
     ]
    }
   ],
   "source": [
    "# 4. Develop a program that calculates the grade of a student based on their exam score.\n",
    "n = int(input(\"Enter the score\"))\n",
    "if n >= 90:\n",
    "    print(\"Grade:A\")\n",
    "elif 75 <= n < 90:\n",
    "    print(\"Grade:B\")\n",
    "elif 60 <= n < 75:\n",
    "    print(\"Grade:C\")\n",
    "elif 40 <= n < 60:\n",
    "    print(\"Grade:D\")\n",
    "else:\n",
    "    print(\"Grade:F\")"
   ]
  },
  {
   "cell_type": "code",
   "execution_count": 86,
   "id": "b9996202-501e-4e34-8989-9502ace074a7",
   "metadata": {},
   "outputs": [
    {
     "name": "stdin",
     "output_type": "stream",
     "text": [
      "Enter the year: 2024\n"
     ]
    },
    {
     "name": "stdout",
     "output_type": "stream",
     "text": [
      "2024 is a leap year.\n"
     ]
    }
   ],
   "source": [
    "# 5. Create a program that checks if a year is a leap year or not.\n",
    "year = int(input(\"Enter the year:\"))\n",
    "if (year % 4 == 0 and year % 100 != 0) or (year % 400 == 0):\n",
    "    print(year, \"is a leap year.\")\n",
    "else:\n",
    "    print(year, \"is not a leap year.\")"
   ]
  },
  {
   "cell_type": "code",
   "execution_count": 87,
   "id": "ce1a112c-4a54-4979-9290-70628e990923",
   "metadata": {},
   "outputs": [
    {
     "name": "stdin",
     "output_type": "stream",
     "text": [
      "Enter the length of side 1: 3\n",
      "Enter the length of side 2: 4\n",
      "Enter the length of side 3: 5\n"
     ]
    },
    {
     "name": "stdout",
     "output_type": "stream",
     "text": [
      "The triangle is Scalene\n"
     ]
    }
   ],
   "source": [
    "# 6. Write a program to classify a triangle based on its sides' lengths.\n",
    "side1 = float(input(\"Enter the length of side 1:\"))\n",
    "side2 = float(input(\"Enter the length of side 2:\"))\n",
    "side3 = float(input(\"Enter the length of side 3:\"))\n",
    "\n",
    "if side1 == side2 == side3:\n",
    "    triangle_type = \"Equilateral\"\n",
    "elif side1 == side2 or side1 == side3 or side2 == side3:\n",
    "    triangle_type = \"Isosceles\"\n",
    "else:\n",
    "    triangle_type = \"Scalene\"\n",
    "\n",
    "print(\"The triangle is\", triangle_type)"
   ]
  },
  {
   "cell_type": "code",
   "execution_count": 88,
   "id": "5ecd3646-dcb5-48cf-a24c-c2e0903e4bae",
   "metadata": {},
   "outputs": [
    {
     "name": "stdin",
     "output_type": "stream",
     "text": [
      "Enter the 1st number 10\n",
      "Enter the 2nd number 12\n",
      "Enter the 3rd number 8\n"
     ]
    },
    {
     "name": "stdout",
     "output_type": "stream",
     "text": [
      "The largest number is  12\n"
     ]
    }
   ],
   "source": [
    "# 7. Build a program that determines the largest of three given numbers.\n",
    "n1 = int(input(\"Enter the 1st number\"))\n",
    "n2 = int(input(\"Enter the 2nd number\"))\n",
    "n3 = int(input(\"Enter the 3rd number\"))\n",
    "if (n1 >= n2) and (n1 >= n3):\n",
    "   print(\"The largest number is \", n1)\n",
    "elif (n2 >= n1) and (n2 >= n3):\n",
    "   print(\"The largest number is \", n2)\n",
    "else:\n",
    "   print(\"The largest number is \", n3)"
   ]
  },
  {
   "cell_type": "code",
   "execution_count": 41,
   "id": "b07af1c7-c2cd-4eef-909d-2f4d3a0b0f7f",
   "metadata": {},
   "outputs": [
    {
     "name": "stdin",
     "output_type": "stream",
     "text": [
      "Enter the character d\n"
     ]
    },
    {
     "name": "stdout",
     "output_type": "stream",
     "text": [
      "Consonant\n"
     ]
    }
   ],
   "source": [
    "# 8. Develop a program that checks whether a character is a vowel or a consonant.\n",
    "c = input(\"Enter the character\")\n",
    "if c.lower() in ('a','e','i','o','u'):\n",
    "    print(\"Vowel\")\n",
    "else:\n",
    "    print(\"Consonant\")"
   ]
  },
  {
   "cell_type": "code",
   "execution_count": 89,
   "id": "4af4af66-0e84-4c56-b65d-eb04b2ee4d70",
   "metadata": {},
   "outputs": [
    {
     "name": "stdin",
     "output_type": "stream",
     "text": [
      "Enter the purchase amount: 9000\n"
     ]
    },
    {
     "name": "stdout",
     "output_type": "stream",
     "text": [
      "Total cost after Discounts: 5400.0\n"
     ]
    }
   ],
   "source": [
    "# 9. Create a program to calculate the total cost of a shopping cart based on discounts.\n",
    "amount = float(input(\"Enter the purchase amount:\"))\n",
    "if amount < 1000:\n",
    "    discount = 0\n",
    "elif 1000 <= amount < 2000:\n",
    "    discount = 10\n",
    "elif 2000 <= amount < 5000:\n",
    "    discount = 25\n",
    "else:\n",
    "    discount = 40\n",
    "price = amount - (amount * discount / 100)\n",
    "print(\"Total cost after Discounts:\", price)"
   ]
  },
  {
   "cell_type": "code",
   "execution_count": 90,
   "id": "ecdba7c6-5fd5-4f5f-a708-d1c8b12b7309",
   "metadata": {},
   "outputs": [
    {
     "name": "stdin",
     "output_type": "stream",
     "text": [
      "Enter the number 101\n"
     ]
    },
    {
     "name": "stdout",
     "output_type": "stream",
     "text": [
      "Odd\n"
     ]
    }
   ],
   "source": [
    "# 10. Write a program that checks if a given number is even or odd.\n",
    "n = int(input(\"Enter the number\"))\n",
    "if (n%2 == 0):\n",
    "    print(\"Even\")\n",
    "else:\n",
    "    print(\"Odd\")"
   ]
  },
  {
   "cell_type": "code",
   "execution_count": null,
   "id": "46af8938-ddfa-4337-a2fa-43a074c9f391",
   "metadata": {},
   "outputs": [],
   "source": [
    "## Intermediate Level:"
   ]
  },
  {
   "cell_type": "code",
   "execution_count": 91,
   "id": "a58cc472-198c-489a-bbed-db8be120f03c",
   "metadata": {},
   "outputs": [
    {
     "name": "stdin",
     "output_type": "stream",
     "text": [
      "Input value for a:  10\n",
      "Input value for b:  12\n",
      "Input value for c:  8\n"
     ]
    },
    {
     "name": "stdout",
     "output_type": "stream",
     "text": [
      "Roots are: -0.6+i13.2664991614216  and  -0.6-i13.2664991614216\n"
     ]
    }
   ],
   "source": [
    "# 11. Write a program that calculates the roots of a quadratic equation .\n",
    "import math\n",
    "a = int(input(\"Input value for a: \"))\n",
    "b = int(input(\"Input value for b: \"))\n",
    "c = int(input(\"Input value for c: \"))\n",
    "\n",
    "if a == 0:\n",
    "    print(\"Invalid Quad Equation\")\n",
    "else:\n",
    "    d = (b**2)-(4*a*c)\n",
    "    sqroot = math.sqrt(abs(d))\n",
    "    if d == 0:\n",
    "        r1 = -b / (2 * a)\n",
    "        r2 = -b / (2 * a)\n",
    "    else:\n",
    "        if d > 0:\n",
    "            r1 = ((-b + sqroot) / (2 * a))\n",
    "            r2 = ((-b - sqroot) / (2 * a))\n",
    "        else:\n",
    "            r1 = str(- b / (2 * a)) + \"+i\" + str(sqroot)\n",
    "            r2 = str(- b / (2 * a)) + \"-i\" + str(sqroot)\n",
    "print(\"Roots are:\",r1,\" and \",r2)"
   ]
  },
  {
   "cell_type": "code",
   "execution_count": 42,
   "id": "5daeaf27-ddf6-47c3-b71b-db421dcce44d",
   "metadata": {},
   "outputs": [
    {
     "name": "stdin",
     "output_type": "stream",
     "text": [
      "Enter a number (1-7): 6\n"
     ]
    },
    {
     "name": "stdout",
     "output_type": "stream",
     "text": [
      "The day is Saturday\n"
     ]
    }
   ],
   "source": [
    "# 12. Create a program that determines the day of the week based on the day number (1-7).\n",
    "day_number = int(input(\"Enter a number (1-7):\"))\n",
    "if day_number == 1:\n",
    "    day_name = \"Monday\"\n",
    "elif day_number == 2:\n",
    "    day_name = \"Tuesday\"\n",
    "elif day_number == 3:\n",
    "    day_name = \"Wednesday\"\n",
    "elif day_number == 4:\n",
    "    day_name = \"Thursday\"\n",
    "elif day_number == 5:\n",
    "    day_name = \"Friday\"\n",
    "elif day_number == 6:\n",
    "    day_name = \"Saturday\"\n",
    "elif day_number == 7:\n",
    "    day_name = \"Sunday\"\n",
    "else:\n",
    "    day_name = \"Invalid\"\n",
    "print(\"The day is\", day_name)"
   ]
  },
  {
   "cell_type": "code",
   "execution_count": 93,
   "id": "515afe4d-ef22-4f89-ae6c-6d9027c56622",
   "metadata": {},
   "outputs": [
    {
     "name": "stdin",
     "output_type": "stream",
     "text": [
      "Enter the number: 5\n"
     ]
    },
    {
     "name": "stdout",
     "output_type": "stream",
     "text": [
      "Factorial:  120\n"
     ]
    }
   ],
   "source": [
    "# 13. Develop a program that calculates the factorial of a given number using recursion.\n",
    "def factorial(n):\n",
    "    if (n==1 or n==0):         \n",
    "        return 1     \n",
    "    else:         \n",
    "        return (n * factorial(n - 1))\n",
    "num = int(input(\"Enter the number:\"))\n",
    "print(\"Factorial: \", factorial(num))"
   ]
  },
  {
   "cell_type": "code",
   "execution_count": 43,
   "id": "6ddf80ff-3c60-4240-9618-2381bedd57e1",
   "metadata": {},
   "outputs": [
    {
     "name": "stdin",
     "output_type": "stream",
     "text": [
      "Enter the 1st number 7\n",
      "Enter the 2nd number 5\n",
      "Enter the 3rd number 88\n"
     ]
    },
    {
     "name": "stdout",
     "output_type": "stream",
     "text": [
      "The largest number is  88\n"
     ]
    }
   ],
   "source": [
    "# 14. Write a program to find the largest among three numbers without using the `max()` function.\n",
    "n1 = int(input(\"Enter the 1st number\"))\n",
    "n2 = int(input(\"Enter the 2nd number\"))\n",
    "n3 = int(input(\"Enter the 3rd number\"))\n",
    "if (n1 >= n2) and (n1 >= n3):\n",
    "   print(\"The largest number is \", n1)\n",
    "elif (n2 >= n1) and (n2 >= n3):\n",
    "   print(\"The largest number is \", n2)\n",
    "else:\n",
    "   print(\"The largest number is \", n3)"
   ]
  },
  {
   "cell_type": "code",
   "execution_count": 135,
   "id": "8fa5dd70-76fe-42ae-b91a-3eed9220b58b",
   "metadata": {},
   "outputs": [
    {
     "name": "stdout",
     "output_type": "stream",
     "text": [
      "***Welcome to IBS Bank***\n",
      "Welcome to your bank account David John\n",
      "\n",
      "\t\t1. View Account Balance\n",
      "\t\t2. Withdraw Cash\n",
      "\t\t3. Deposit Cash\n",
      "\t\t4. Change PIN\n",
      "\t\t0. Logout and Exit\n"
     ]
    },
    {
     "name": "stdin",
     "output_type": "stream",
     "text": [
      "Enter number to proceed >  1\n"
     ]
    },
    {
     "name": "stdout",
     "output_type": "stream",
     "text": [
      "\n",
      "\n",
      "\n"
     ]
    },
    {
     "name": "stdin",
     "output_type": "stream",
     "text": [
      "Please enter your 4-digit PIN >  2345\n"
     ]
    },
    {
     "name": "stdout",
     "output_type": "stream",
     "text": [
      "Account auhtorized!\n",
      "Your current balance is Rs. 201985.0\n",
      "\n",
      "\n"
     ]
    }
   ],
   "source": [
    "# 15. Create a program that simulates a basic ATM transaction menu.\n",
    "curr_pin = 2345\n",
    "curr_balance = 201985.00\n",
    "user_name = \"David John\"\n",
    "print(\"***Welcome to IBS Bank***\")\n",
    "print(\"Welcome to your bank account\", user_name, end = \"\\n\\n\")\n",
    "ch = 9\n",
    "\n",
    "print(\"\\t\\t1. View Account Balance\")\n",
    "print(\"\\t\\t2. Withdraw Cash\")\n",
    "print(\"\\t\\t3. Deposit Cash\")\n",
    "print(\"\\t\\t4. Change PIN\")\n",
    "print(\"\\t\\t0. Logout and Exit\")\n",
    "ch = int(input(\"Enter number to proceed > \"))\n",
    "print(\"\\n\\n\")\n",
    "\n",
    "if ch == 0:\n",
    "    print(\"You have been logged out. Thank you!\")    \n",
    "elif ch in (1,2,3,4,5):\n",
    "    input_pin = int(input(\"Please enter your 4-digit PIN > \"))    \n",
    "    if input_pin == curr_pin:\n",
    "        print(\"Account auhtorized!\")            \n",
    "        if ch == 1:\n",
    "            print(\"Your current balance is Rs.\", curr_balance, end = \"\\n\\n\\n\")            \n",
    "        elif ch == 2:\n",
    "            w_amt = float(input(\"Enter the amount you wish to withdraw > \"))\n",
    "            if w_amt>user_balance:\n",
    "                print(\"Not enough balance, Please enter a lower amount!\" )                \n",
    "            else:\n",
    "                print(\"Withdrawing Rs.\", w_amt)\n",
    "                cnf_flag = input(\"Confirm? Y/N > \")\n",
    "                if cnf_flag in ('Y', 'y'):\n",
    "                    curr_balance -= w_amt\n",
    "                    print(\"Current balance - Rs.\", curr_balance, end = \"\\n\\n\\n\")\n",
    "                else:\n",
    "                    print(\"Transaction Cancelled!\\n\\n\")            \n",
    "        elif ch == 3:\n",
    "            d_amt = float(input(\"Enter the amount you wish to deposit > \"))\n",
    "            cnf_flag = input(\"Confirm? Y/N > \")\n",
    "            if cnf_flag in ('Y', 'y'): \n",
    "                curr_balance += d_amt\n",
    "                print(\"Current balance - Rs.\", curr_balance, end = \"\\n\\n\\n\")\n",
    "            else:\n",
    "                print(\"Transaction Cancelled!\\n\\n\")            \n",
    "        elif ch == 4:\n",
    "            new_pin = int(input(\"Enter your new PIN > \"))\n",
    "            cnf_flag = input(\"Confirm? Y/N > \")\n",
    "            if cnf_flag in ('Y', 'y'): \n",
    "                curr_pin = new_pin\n",
    "                print(\"PIN changed successfully! \\n\\n\")\n",
    "            else:\n",
    "                print(\"Transaction Cancelled!\\n\\n\")            \n",
    "    else:\n",
    "        print(\"Incorrect PIN! Enter correct pin\", end = \"\\n\\n\")        \n",
    "else:\n",
    "    print(\"Invalid input!\")\n",
    "    print(\"\\t\\t0. Enter 0 to Logout and Exit!\")    "
   ]
  },
  {
   "cell_type": "code",
   "execution_count": 96,
   "id": "5f454bbd-2a60-4da9-ba9e-f7ed8eb48d06",
   "metadata": {},
   "outputs": [
    {
     "name": "stdin",
     "output_type": "stream",
     "text": [
      "Enter the string Malayalam\n"
     ]
    },
    {
     "name": "stdout",
     "output_type": "stream",
     "text": [
      "malayalam is a palindrome\n"
     ]
    }
   ],
   "source": [
    "# 16. Build a program that checks if a given string is a palindrome or not.\n",
    "s2 = input(\"Enter the string\")\n",
    "s2 = s2.lower()\n",
    "revs2 = s2[::-1]\n",
    "if s2 == revs2:\n",
    "    print(s2, \"is a palindrome\")\n",
    "else:\n",
    "    print(s2, \"is not a palindrome\")"
   ]
  },
  {
   "cell_type": "code",
   "execution_count": 102,
   "id": "037aad3d-076f-429d-bfff-a7983821b2f5",
   "metadata": {},
   "outputs": [
    {
     "name": "stdin",
     "output_type": "stream",
     "text": [
      "Enter number of elements :  5\n",
      " 1\n",
      " 2\n",
      " 3\n",
      " 4\n",
      " 5\n"
     ]
    },
    {
     "name": "stdout",
     "output_type": "stream",
     "text": [
      "Average: 3.0\n"
     ]
    }
   ],
   "source": [
    "# 17. Write a program that calculates the average of a list of numbers, excluding the smallest and largest values.\n",
    "lst = []\n",
    "n = int(input(\"Enter number of elements : \"))\n",
    "for i in range(0, n):\n",
    "    ele = int(input())\n",
    "    lst.append(ele)\n",
    "avg = sum(lst[1:n-1])/(n-2)\n",
    "print(\"Average:\",avg)"
   ]
  },
  {
   "cell_type": "code",
   "execution_count": 44,
   "id": "85538d51-2125-4236-ae8f-32dcd79b1586",
   "metadata": {},
   "outputs": [
    {
     "name": "stdin",
     "output_type": "stream",
     "text": [
      "Enter the temperature in celsius 36\n"
     ]
    },
    {
     "name": "stdout",
     "output_type": "stream",
     "text": [
      "36.0 degree Celsius is equal to 96.8 degree Fahrenheit\n"
     ]
    }
   ],
   "source": [
    "# 18. Develop a program that converts a given temperature from Celsius to Fahrenheit.\n",
    "celsius = float(input(\"Enter the temperature in celsius\"))\n",
    "fahrenheit = (celsius * 1.8) + 32\n",
    "print('%0.1f degree Celsius is equal to %0.1f degree Fahrenheit' %(celsius,fahrenheit))"
   ]
  },
  {
   "cell_type": "code",
   "execution_count": 109,
   "id": "fd2de32e-b3d3-41b2-b87a-72cd98f54d14",
   "metadata": {},
   "outputs": [
    {
     "name": "stdout",
     "output_type": "stream",
     "text": [
      "Please select operation -\n",
      "1. Add\n",
      "2. Subtract\n",
      "3. Multiply\n",
      "4. Divide\n",
      "\n"
     ]
    },
    {
     "name": "stdin",
     "output_type": "stream",
     "text": [
      "Enter Operation (1/2/3/4): 4\n",
      "Enter first number:  3\n",
      "Enter second number:  4\n"
     ]
    },
    {
     "name": "stdout",
     "output_type": "stream",
     "text": [
      "3.0 / 4.0 = 0.75\n"
     ]
    }
   ],
   "source": [
    "# 19. Create a program that simulates a basic calculator for addition, subtraction, multiplication, and division.\n",
    "print(\"Please select operation -\\n\" \\\n",
    "        \"1. Add\\n\" \\\n",
    "        \"2. Subtract\\n\" \\\n",
    "        \"3. Multiply\\n\" \\\n",
    "        \"4. Divide\\n\")\n",
    "ch = int(input(\"Enter Operation (1/2/3/4):\"))\n",
    "if ch in (1, 2, 3, 4):\n",
    "    num1 = float(input(\"Enter first number: \"))\n",
    "    num2 = float(input(\"Enter second number: \"))\n",
    "    if ch == 1:\n",
    "        print(num1, \"+\", num2, \"=\", num1 + num2)\n",
    "    elif ch == 2:\n",
    "        print(num1, \"-\", num2, \"=\", num1 - num2)\n",
    "    elif ch == 3:\n",
    "        print(num1, \"*\", num2, \"=\", num1 * num2)\n",
    "    elif ch == 4:\n",
    "            print(num1, \"/\", num2, \"=\", num1 / num2)\n",
    "else:\n",
    "    print(\"Invalid Operation Selected\")"
   ]
  },
  {
   "cell_type": "code",
   "execution_count": 113,
   "id": "aba6b46c-2fb8-44b8-b15b-a220ce01baaf",
   "metadata": {},
   "outputs": [
    {
     "name": "stdin",
     "output_type": "stream",
     "text": [
      " 1 2 3 4\n"
     ]
    },
    {
     "name": "stdout",
     "output_type": "stream",
     "text": [
      "{(-0.17468540428030577+1.5468688872313963j), (-0.1746854042803061-1.5468688872313963j), (-1.6506291914393882+1.1102230246251565e-16j)}\n"
     ]
    }
   ],
   "source": [
    "# 20. Write a program that determines the roots of a cubic equation using the Cardano formula.\n",
    "## ax^3+bx^2+cx+d=0\n",
    "from cmath import *\n",
    "solutions = set()\n",
    "\n",
    "def cbrt(polynomial):\n",
    "    solution = set()\n",
    "    root1 = polynomial ** (1 / 3)\n",
    "    root2 = (polynomial ** (1 / 3)) * (-1 / 2 + (sqrt(3) * 1j) / 2)\n",
    "    root3 = (polynomial ** (1 / 3)) * (-1 / 2 - (sqrt(3) * 1j) / 2)\n",
    "    solution.update({root1, root2, root3})\n",
    "    return solution\n",
    "a, b, c, d = map(complex, input().split())\n",
    "if a != 0:\n",
    "    p = (3 * a * c - b ** 2) / (3 * a ** 2)\n",
    "    q = (2 * b ** 3 - 9 * a * b * c + 27 * a ** 2 * d) / (27 * a ** 3)\n",
    "    alpha = cbrt(-q / 2 + sqrt((q / 2) ** 2 + (p / 3) ** 3))\n",
    "    beta = cbrt(-q / 2 - sqrt((q / 2) ** 2 + (p / 3) ** 3))\n",
    "    for i in alpha:\n",
    "        for j in beta:\n",
    "            if abs((i * j) + p / 3) <= 0.00001:\n",
    "                x = i + j - b / (3 * a)\n",
    "                solutions.add(x)\n",
    "elif b != 0:\n",
    "    D = c ** 2 - 4 * b * d\n",
    "    solutions.add((-c - sqrt(D)) / 2 * b)\n",
    "    solutions.add((-c + sqrt(D)) / 2 * b)\n",
    "elif c != 0:\n",
    "    solutions.add(-d / c)\n",
    "elif d == 0:\n",
    "    solutions.add(\"True\")\n",
    "else:\n",
    "    solutions.add(\"False\")\n",
    "print(solutions)"
   ]
  },
  {
   "cell_type": "code",
   "execution_count": 130,
   "id": "c49a9431-6db6-4b4b-9c39-d2fa38c3a90e",
   "metadata": {},
   "outputs": [
    {
     "name": "stdout",
     "output_type": "stream",
     "text": [
      "0.5555555555555556\n",
      "-1.2962962962962963\n",
      "(0.40110390605774277+0j)\n",
      "(0.6925332154152323+1.199502715028224j)\n",
      "(0.42697045480630835+1.199502715028224j) (-0.17468540428030588-0.8521365428250519j) (-2.252285050526002-0.3473661722031721j)\n"
     ]
    }
   ],
   "source": [
    "from cmath import *\n",
    "a = 1\n",
    "b = 2\n",
    "c = 3\n",
    "d = 4\n",
    "q = ((3*a*c)-(b**2))/(9*(a**2))\n",
    "r = ((9*a*b*c)-(27*(a**2)*d)-(2*(b**3)))/(54*(a**3))\n",
    "s = (r + sqrt((q**3)+(r**2)))**(1/3)\n",
    "t = (r - sqrt((q**3)+(r**2)))**(1/3)\n",
    "x1 = (s + t) - (b/(3*a))\n",
    "x2 = -((s+t)/2) - (b/(3*a)) + (((sqrt(3) * 1j) / 2)*(s-t))\n",
    "x3 = -((s+t)/2) - (b/(3*a)) - (((sqrt(3) * 1j) / 2)*(s-t))\n",
    "print(x1,x2,x3)"
   ]
  },
  {
   "cell_type": "code",
   "execution_count": null,
   "id": "52e209bc-000f-4b52-96de-d793946904a7",
   "metadata": {},
   "outputs": [],
   "source": [
    "## Advanced Level:"
   ]
  },
  {
   "cell_type": "code",
   "execution_count": 138,
   "id": "acd14ff1-ac51-4746-937c-cb066f08c201",
   "metadata": {},
   "outputs": [
    {
     "name": "stdin",
     "output_type": "stream",
     "text": [
      "Enter your income 2300000\n",
      "Enter 1. for new tax regime 2. for old tax regime 2\n"
     ]
    },
    {
     "name": "stdout",
     "output_type": "stream",
     "text": [
      "Income Tax calculated: 502500.0\n"
     ]
    }
   ],
   "source": [
    "# 21. Create a program that calculates the income tax based on the user's income and tax brackets.\n",
    "income = float(input(\"Enter your income\"))\n",
    "ch = int(input(\"Enter 1. for new tax regime 2. for old tax regime\"))\n",
    "if ch == 1:\n",
    "    if income <= 250000:  #2 Lakh 50 thousand\n",
    "        tax = 0\n",
    "    elif income <= 500000: #5 Lakh\n",
    "        tax = (income - 250000) * 0.05\n",
    "    elif income <= 750000: #7 lakh 50 thousand\n",
    "        tax = (income - 500000) * 0.10 + 12500 \n",
    "    elif income <= 1000000: #10 Lakh\n",
    "        tax = (income - 750000) * 0.15 + 37500 \n",
    "    elif income <= 1250000: #12 lakh 50 thousand\n",
    "        tax = (income - 1000000) * 0.20 + 75000 \n",
    "    elif income <= 1500000: #15 lakh\n",
    "        tax = (income - 1250000) * 0.25 + 125000 \n",
    "    else:\n",
    "        tax = (income - 1500000) * 0.30 + 187500\n",
    "elif ch == 2:\n",
    "    if income <= 250000:  #2 Lakh 50 thousand\n",
    "        tax = 0\n",
    "    elif income <= 500000: #5 Lakh\n",
    "        tax = (income - 250000) * 0.05\n",
    "    elif income <= 1000000: #10 Lakh\n",
    "        tax = (income - 500000) * 0.20 + 12500 \n",
    "    else:\n",
    "        tax = (income - 1000000) * 0.30 + 112500\n",
    "else:\n",
    "    print(\"Invalid choice\")\n",
    "print(\"Income Tax calculated:\", tax)"
   ]
  },
  {
   "cell_type": "code",
   "execution_count": 140,
   "id": "d8092070-db0f-42d9-929e-73dc764fec0a",
   "metadata": {},
   "outputs": [
    {
     "name": "stdin",
     "output_type": "stream",
     "text": [
      "Choose Rock, Paper, or Scissors:  Rock\n"
     ]
    },
    {
     "name": "stdout",
     "output_type": "stream",
     "text": [
      "You chose:  rock\n",
      "Computer chose:  paper\n",
      "Computer wins!\n"
     ]
    }
   ],
   "source": [
    "# 22. Write a program that simulates a rock-paper-scissors game against the computer.\n",
    "import random\n",
    "options = [\"Rock\", \"Paper\", \"Scissors\"]\n",
    "user_choice = input(\"Choose Rock, Paper, or Scissors: \").lower()\n",
    "computer_choice = random.choice(options).lower()\n",
    "print(\"You chose: \", user_choice)\n",
    "print(\"Computer chose: \", computer_choice)\n",
    "if user_choice == computer_choice:\n",
    "    print(\"It's a tie!\")\n",
    "elif user_choice == \"rock\" and computer_choice == \"scissors\":\n",
    "    print(\"You win!\")\n",
    "elif user_choice == \"paper\" and computer_choice == \"rock\":\n",
    "    print(\"You win!\")\n",
    "elif user_choice == \"scissors\" and computer_choice == \"paper\":\n",
    "    print(\"You win!\")\n",
    "else:\n",
    "    print(\"Computer wins!\")"
   ]
  },
  {
   "cell_type": "code",
   "execution_count": 9,
   "id": "40d542d8-7d20-40c8-b1bf-3b77266b7a28",
   "metadata": {},
   "outputs": [
    {
     "name": "stdin",
     "output_type": "stream",
     "text": [
      "Enter password length:  12\n",
      "Enter password complexity:\n",
      " 1. Strong \n",
      " 2. Medium \n",
      " 3. Weak \n",
      "  1\n"
     ]
    },
    {
     "name": "stdout",
     "output_type": "stream",
     "text": [
      "New Password: 0pC@DEi(#?q4\n"
     ]
    }
   ],
   "source": [
    "# 23. Develop a program that generates a random password based on user preferences (length, complexity).\n",
    "import random\n",
    "new_pass = \"\"\n",
    "rangeno = 0\n",
    "pwdlen =  int(input(\"Enter password length: \"))\n",
    "complexity =  int(input(\"Enter password complexity:\\n 1. Strong \\n 2. Medium \\n 3. Weak \\n \"))\n",
    "digits = ['0', '1', '2', '3', '4', '5', '6', '7', '8', '9'] \n",
    "lowercase_char = ['a', 'b', 'c', 'd', 'e', 'f', 'g', 'h',\n",
    "                     'i', 'j', 'k', 'm', 'n', 'o', 'p', 'q',\n",
    "                     'r', 's', 't', 'u', 'v', 'w', 'x', 'y',\n",
    "                     'z']\n",
    " \n",
    "uppercase_char = ['A', 'B', 'C', 'D', 'E', 'F', 'G', 'H',\n",
    "                     'I', 'J', 'K', 'M', 'N', 'O', 'P', 'Q',\n",
    "                     'R', 'S', 'T', 'U', 'V', 'W', 'X', 'Y',\n",
    "                     'Z']\n",
    " \n",
    "symbols = ['@', '#', '$', '%', '=', ':', '?', '.', '/', '|', '~', '>',\n",
    "           '*', '(', ')', '<']\n",
    "if complexity in (1,2,3):\n",
    "    if complexity == 1:\n",
    "        combined_list = digits + lowercase_char + uppercase_char + symbols\n",
    "        new_pass = random.choice(digits) +  random.choice(lowercase_char) +  random.choice(uppercase_char) +  random.choice(symbols)\n",
    "    elif complexity == 2:\n",
    "        combined_list = digits + lowercase_char + uppercase_char\n",
    "        new_pass = random.choice(digits) +  random.choice(lowercase_char) +  random.choice(uppercase_char)\n",
    "    else:\n",
    "        combined_list = lowercase_char + uppercase_char\n",
    "        new_pass = random.choice(lowercase_char) +  random.choice(uppercase_char)\n",
    "    rangeno = (pwdlen)-(len(new_pass))\n",
    "    for i in range(rangeno):\n",
    "        new_pass = new_pass + random.choice(combined_list)\n",
    "    print(\"New Password:\", new_pass)\n",
    "else:\n",
    "    print(\"Invalid Option\")"
   ]
  },
  {
   "cell_type": "code",
   "execution_count": 53,
   "id": "8df0827c-4c9a-4791-b15e-beed2f5b212f",
   "metadata": {},
   "outputs": [
    {
     "name": "stdout",
     "output_type": "stream",
     "text": [
      "WELCOME TO THE ADVENTURE GAME!\n",
      "        Let's start the action! ☆-🎬-☆\n",
      " \n",
      "        Lily wakes up in her bedroom in the middle of the night. She heard a loud BAN outside the house.\n",
      "        Now she has two choices she can either stay in the room or check what the sound might be about.\n",
      " \n",
      "        Type your choice: Stay or Evaluate?\n",
      "    \n"
     ]
    },
    {
     "name": "stdin",
     "output_type": "stream",
     "text": [
      " Evaluate\n"
     ]
    },
    {
     "name": "stdout",
     "output_type": "stream",
     "text": [
      "Lily exits the room silently and reaches the main hall.\n",
      "\n",
      "            In the main hall, she finds a strange but cute teddy bear on the floor. \n",
      "            She wanted to pick the teddy up. \n",
      "            But should she? It doesn't belong to her. (•˳̂•̆)\n",
      " \n",
      "            Type your choice: Pick or Ignore?\n",
      " \n",
      "            \n"
     ]
    },
    {
     "name": "stdin",
     "output_type": "stream",
     "text": [
      " Ignore\n"
     ]
    },
    {
     "name": "stdout",
     "output_type": "stream",
     "text": [
      "\n",
      "Lily decided not to pick up the bear and walked forward.\n",
      "\n",
      "\n",
      "After walking for a while, Lily saw the MONSTOR in front of her!\n",
      "    It had red eyes and evil looks. She got very scared! \n",
      "The monster attacked Lily and hurt her! She was then thrown to the new world by the monster!\n",
      "\n",
      "\n",
      "\n",
      "=================================END OF CHAPTER 1=================================\n"
     ]
    }
   ],
   "source": [
    "# 24. Create a program that implements a simple text-based adventure game with branching scenarios.\n",
    "def scene1():\n",
    "    print(\"\"\"WELCOME TO THE ADVENTURE GAME!\n",
    "        Let's start the action! ☆-🎬-☆\n",
    " \n",
    "        Lily wakes up in her bedroom in the middle of the night. She heard a loud BAN outside the house.\n",
    "        Now she has two choices she can either stay in the room or check what the sound might be about.\n",
    " \n",
    "        Type your choice: Stay or Evaluate?\n",
    "    \"\"\")\n",
    " \n",
    "    c1 = input()\n",
    "    ans = 'incorrect'\n",
    "    while(ans=='incorrect'):\n",
    "        if(c1.upper()==\"STAY\"):\n",
    "            print(\"\\nLily decides to stay in the room and ends up staying inside forever as noone seems to come to help her.\")\n",
    "            ans = 'correct'\n",
    "        elif(c1.upper()==\"EVALUATE\"):\n",
    "            print(\"Lily exits the room silently and reaches the main hall.\")\n",
    "            ans='correct'\n",
    "            scene2()\n",
    "        else:\n",
    "            print(\"ENTER THE CORRECT CHOICE! Stay or Evaluate?\")\n",
    "            c1 = input()\n",
    "\n",
    "def scene2():\n",
    "    print(\"\"\"\n",
    "            In the main hall, she finds a strange but cute teddy bear on the floor. \n",
    "            She wanted to pick the teddy up. \n",
    "            But should she? It doesn't belong to her. (•˳̂•̆)\n",
    " \n",
    "            Type your choice: Pick or Ignore?\n",
    " \n",
    "            \"\"\")\n",
    "    c1 = input()\n",
    "    ans = 'incorrect'\n",
    "    while(ans=='incorrect'):\n",
    "        if(c1.upper()==\"PICK\"):\n",
    "            print(\"\"\"\\nThe moment Lily picked up the the teddy bear. The Teddy bear starts TALKING!The bear tells Lily that she is in grave danger as there is a monster in the house.And the monster has captured her PARENTS as well!But he hugged her and told her not to get scared as he knows how to beat the moster!\"\"\")\n",
    "            print(\"\"\"\\nThe bear handed lily a magical potion which can weaken the moster and make him run away!He handed her the potion and then DISAPPEARED!Lily moved forward.\"\"\")\n",
    "            ans = 'correct'\n",
    "            pick=\"True\"\n",
    "        elif(c1.upper()=='IGNORE'):\n",
    "            print(\"\"\"\\nLily decided not to pick up the bear and walked forward.\"\"\")\n",
    "            ans='correct'\n",
    "            pick=\"False\"\n",
    "        else:\n",
    "            print(\"Wrong Input! Enter pick or ignore?\")\n",
    "            c1=input()\n",
    "    scene3(pick)\n",
    "\n",
    "def scene3(pick_value):\n",
    "    print(\"\"\"\\n\\nAfter walking for a while, Lily saw the MONSTOR in front of her!\n",
    "    It had red eyes and evil looks. She got very scared! \"\"\")\n",
    "    if(pick_value==\"True\"):\n",
    "        print(\"\"\"But then she remembered! She had the magic portion and she threw it on the moster!\n",
    "              Well she had nothing to lose!\"\"\")\n",
    "        print(\"\\n The monster SCREAMED in pain but he managed to make a portal and pushed Lily to a new world!\")\n",
    "    elif(pick_value==\"False\"):\n",
    "        print(\"The monster attacked Lily and hurt her! She was then thrown to the new world by the monster!\")\n",
    "\n",
    "scene1()\n",
    "print(\"\\n\\n\")\n",
    "print(\"=================================END OF CHAPTER 1=================================\")"
   ]
  },
  {
   "cell_type": "code",
   "execution_count": 48,
   "id": "66d39a3c-731a-4e9a-bb66-c5215b35054d",
   "metadata": {},
   "outputs": [
    {
     "name": "stdin",
     "output_type": "stream",
     "text": [
      "Enter value for a 2\n",
      "Enter value for b 4\n"
     ]
    },
    {
     "name": "stdout",
     "output_type": "stream",
     "text": [
      "2\n"
     ]
    }
   ],
   "source": [
    "# 25. Build a program that solves a linear equation  for x, considering different cases.\n",
    "## ax-b = 0\n",
    "a = int(input(\"Enter value for a\"))\n",
    "b = int(input(\"Enter value for b\"))\n",
    "\n",
    "if a == 0:\n",
    "  if b == 0:\n",
    "    print('many solutions')\n",
    "  else:\n",
    "    print('no solution')\n",
    "elif b % a == 0:\n",
    "  print(b // a)\n",
    "else:\n",
    "  print('no solution')"
   ]
  },
  {
   "cell_type": "code",
   "execution_count": 50,
   "id": "215cde45-a070-4ce1-af16-79e67fab6928",
   "metadata": {},
   "outputs": [
    {
     "name": "stdout",
     "output_type": "stream",
     "text": [
      "Wellcome to quiz game !!\n",
      "NOTE: if your spelling is incorrect then it is considered as wrong answer\n"
     ]
    },
    {
     "name": "stdin",
     "output_type": "stream",
     "text": [
      "Do you want to play ?  yes\n",
      "\n",
      "1. what does CPU stand for? \n",
      " 1.central processing unit \n",
      " 2. central progressing unit  1\n"
     ]
    },
    {
     "name": "stdout",
     "output_type": "stream",
     "text": [
      "correct! you got 1 point\n"
     ]
    },
    {
     "name": "stdin",
     "output_type": "stream",
     "text": [
      "\n",
      "2. what does GPU stand for? \n",
      " 1.general processing unit \n",
      " 2. graphics progressing unit  1\n"
     ]
    },
    {
     "name": "stdout",
     "output_type": "stream",
     "text": [
      "Incorrect!\n",
      "current answer is --> graphics processing unit\n"
     ]
    },
    {
     "name": "stdin",
     "output_type": "stream",
     "text": [
      "\n",
      "3. what does RAM stand for? \n",
      " 1.random access memory \n",
      " 2. read access memory  1\n"
     ]
    },
    {
     "name": "stdout",
     "output_type": "stream",
     "text": [
      "correct! you got 1 point\n"
     ]
    },
    {
     "name": "stdin",
     "output_type": "stream",
     "text": [
      "\n",
      "4. what does ROM stand for? \n",
      " 1.random only memory \n",
      " 2. read only memory  2\n"
     ]
    },
    {
     "name": "stdout",
     "output_type": "stream",
     "text": [
      "correct! you got 1 point\n",
      "\n",
      "number of question is 4\n",
      "your score is 3\n",
      "75.0% questions are correct.\n"
     ]
    }
   ],
   "source": [
    "# 26. Write a program that simulates a basic quiz game with multiple-choice questions and scoring.\n",
    "print(\"Wellcome to quiz game !!\")\n",
    "print('NOTE: if your spelling is incorrect then it is considered as wrong answer')\n",
    "score = 0\n",
    "question_no = 0\n",
    "playing = input('Do you want to play ? ').lower()\n",
    "if playing == 'yes':\n",
    "    question_no += 1\n",
    "    ques = int(input(f'\\n{question_no}. what does CPU stand for? \\n 1.central processing unit \\n 2. central progressing unit '))\n",
    "    if ques == 1:\n",
    "        score +=1\n",
    "        print('correct! you got 1 point')\n",
    "        \n",
    "    else:\n",
    "        print('Incorrect!')\n",
    "        print(f'current answer is --> central processing unit')\n",
    "\n",
    "# ------1\n",
    "    question_no += 1\n",
    "    ques = int(input(f'\\n{question_no}. what does GPU stand for? \\n 1.general processing unit \\n 2. graphics progressing unit '))\n",
    "    \n",
    "    if ques == 2:\n",
    "        score +=1\n",
    "        print('correct! you got 1 point')\n",
    "        \n",
    "    else:\n",
    "        print('Incorrect!')\n",
    "        print(f'current answer is --> graphics processing unit')\n",
    "\n",
    "# -----2\n",
    "    question_no += 1\n",
    "    ques = int(input(f'\\n{question_no}. what does RAM stand for? \\n 1.random access memory \\n 2. read access memory '))\n",
    "    \n",
    "    if ques == 1:\n",
    "        score +=1\n",
    "        print('correct! you got 1 point')\n",
    "        \n",
    "    else:\n",
    "        print('Incorrect!')\n",
    "        print(f'current answer is --> random access memory')\n",
    "\n",
    "# -----3\n",
    "    question_no += 1\n",
    "    ques = int(input(f'\\n{question_no}. what does ROM stand for? \\n 1.random only memory \\n 2. read only memory '))\n",
    "    if ques == 2:\n",
    "        score +=1\n",
    "        print('correct! you got 1 point')\n",
    "        \n",
    "    else:\n",
    "        print('Incorrect!')\n",
    "        print(f'current answer is --> read only memory')\n",
    "\n",
    "\n",
    "else:\n",
    "    print('thankyou you are out of a game.')\n",
    "    quit()\n",
    "\n",
    "print(f'\\nnumber of question is {question_no}')\n",
    "print(f'your score is {score}')\n",
    "percentage = (score *100)/question_no\n",
    "print(f'{percentage}% questions are correct.')"
   ]
  },
  {
   "cell_type": "code",
   "execution_count": 10,
   "id": "83a494f5-9318-4652-8fdc-e44f734d0a44",
   "metadata": {},
   "outputs": [
    {
     "name": "stdin",
     "output_type": "stream",
     "text": [
      "Enter the year 2023\n"
     ]
    },
    {
     "name": "stdout",
     "output_type": "stream",
     "text": [
      "2023 is not a prime number\n"
     ]
    }
   ],
   "source": [
    "# 27. Develop a program that determines whether a given year is a prime number or not.\n",
    "n = int(input(\"Enter the year\"))\n",
    "flag = False\n",
    "if n == 1:\n",
    "    print(n, \"is not a prime number\")\n",
    "else:\n",
    "    if n > 1:\n",
    "        for i in range(2, n):\n",
    "            if (n % i) == 0:\n",
    "                flag = True\n",
    "    if flag:\n",
    "        print(n, \"is not a prime number\")\n",
    "    else:\n",
    "        print(n, \"is a prime number\")"
   ]
  },
  {
   "cell_type": "code",
   "execution_count": 12,
   "id": "d2a6ef17-2dd5-4fe6-b7fb-93e123568b67",
   "metadata": {},
   "outputs": [
    {
     "name": "stdin",
     "output_type": "stream",
     "text": [
      "Enter the number: 13\n",
      "Enter the number: 8\n",
      "Enter the number: 17\n"
     ]
    },
    {
     "name": "stdout",
     "output_type": "stream",
     "text": [
      "[8, 13, 17]\n"
     ]
    }
   ],
   "source": [
    "# 28. Create a program that sorts three numbers in ascending order using conditional statements.\n",
    "lst = []\n",
    "lst1 = []\n",
    "max = 0\n",
    "for i in range(3):\n",
    "    ele = int(input(\"Enter the number:\"))\n",
    "    lst.append(ele) \n",
    "for i in lst:\n",
    "    if max<i:\n",
    "        lst1.append(i)\n",
    "        max=i\n",
    "    elif max>i:\n",
    "        lst1.insert(0,i)\n",
    "print(lst1)"
   ]
  },
  {
   "cell_type": "code",
   "execution_count": 13,
   "id": "9b1be0df-d3ba-4774-a21b-e4e40f21c577",
   "metadata": {},
   "outputs": [
    {
     "name": "stdin",
     "output_type": "stream",
     "text": [
      "Input value for a:  3\n",
      "Input value for b:  4\n",
      "Input value for c:  5\n"
     ]
    },
    {
     "name": "stdout",
     "output_type": "stream",
     "text": [
      "Roots are: -0.6666666666666666+i6.6332495807108  and  -0.6666666666666666-i6.6332495807108\n"
     ]
    }
   ],
   "source": [
    "# 29. Build a program that determines the roots of a quartic equation using numerical methods.\n",
    "a = int(input(\"Input value for a: \"))\n",
    "b = int(input(\"Input value for b: \"))\n",
    "c = int(input(\"Input value for c: \"))\n",
    "\n",
    "if a == 0:\n",
    "    print(\"Invalid Quad Equation\")\n",
    "else:\n",
    "    d = (b**2)-(4*a*c)\n",
    "    sqroot = (abs(d))**0.5\n",
    "    if d == 0:\n",
    "        r1 = -b / (2 * a)\n",
    "        r2 = -b / (2 * a)\n",
    "    else:\n",
    "        if d > 0:\n",
    "            r1 = ((-b + sqroot) / (2 * a))\n",
    "            r2 = ((-b - sqroot) / (2 * a))\n",
    "        else:\n",
    "            r1 = str(- b / (2 * a)) + \"+i\" + str(sqroot)\n",
    "            r2 = str(- b / (2 * a)) + \"-i\" + str(sqroot)\n",
    "print(\"Roots are:\",r1,\" and \",r2)"
   ]
  },
  {
   "cell_type": "code",
   "execution_count": 14,
   "id": "b46b9d00-1d68-4b32-ba33-92ea731c205b",
   "metadata": {},
   "outputs": [
    {
     "name": "stdin",
     "output_type": "stream",
     "text": [
      "Enter weight in kilograms: 92\n",
      "Enter height in centimeters: 163\n"
     ]
    },
    {
     "name": "stdout",
     "output_type": "stream",
     "text": [
      "Category: Obese Class 1, Healthy Diet and Exercise Must\n"
     ]
    }
   ],
   "source": [
    "# 30. Write a program that calculates the BMI (Body Mass Index) and provides health recommendations based on the user's input.\n",
    "wt = float(input(\"Enter weight in kilograms:\"))\n",
    "ht = float(input(\"Enter height in centimeters:\"))\n",
    "bmi = (wt/(ht**2)) * 10000\n",
    "if bmi < 18.5:\n",
    "    category = \"Underweight, You should eat more, Please visit Nutritionist !\"\n",
    "elif 18.5 <= bmi < 25:\n",
    "    category = \"Normal, Maintain it !\"\n",
    "elif 25 <= bmi < 30:\n",
    "    category = \"Overweight, Follow proper diet\"\n",
    "elif 30 <= bmi < 35:\n",
    "    category = \"Obese Class 1, Healthy Diet and Exercise Must\"\n",
    "elif 35 <= bmi < 40:\n",
    "    category = \"Obese Class 2, Diet and Exercise Must, Please visit Nutritionist\"\n",
    "elif bmi >= 40:\n",
    "    category = \"Obese Class 3, Please consult a doctor\"\n",
    "print(\"Category:\", category)"
   ]
  },
  {
   "cell_type": "code",
   "execution_count": null,
   "id": "95912327-2786-4d62-8991-82bdf5c4dd42",
   "metadata": {},
   "outputs": [],
   "source": [
    "## Challenge Level:"
   ]
  },
  {
   "cell_type": "code",
   "execution_count": 17,
   "id": "6490fb84-91e9-40e0-9faa-eac6e54eac1e",
   "metadata": {},
   "outputs": [
    {
     "name": "stdin",
     "output_type": "stream",
     "text": [
      "Enter your password: Noam1234\n"
     ]
    },
    {
     "name": "stdout",
     "output_type": "stream",
     "text": [
      "Password should have at least one symbol\n"
     ]
    }
   ],
   "source": [
    "## 31. Create a program that validates a password based on complexity rules (length, characters, etc.).\n",
    "min_password_len = 8\n",
    "max_password_len = 16\n",
    "symbols = ['@', '#', '$', '%', '=', ':', '?', '.', '/', '|', '~', '>',\n",
    "           '*', '(', ')', '<']\n",
    "user_pass = input(\"Enter your password:\")\n",
    "if len(user_pass) < 8:\n",
    "    print(\"Password is too short. Please enter password with length 8-16 characters\")\n",
    "elif len(user_pass) > 16:\n",
    "    print(\"Password is too long. Please enter password with length 8-16 characters\")\n",
    "else:\n",
    "    if not any(char.isdigit() for char in user_pass):\n",
    "        print(\"Password should have at least one numeral\")\n",
    "    elif not any(char.isupper() for char in user_pass):\n",
    "        print(\"Password should have at least one Uppercase\")\n",
    "    elif not any(char.islower() for char in user_pass):\n",
    "        print(\"Password should have at least one Lowercase\")\n",
    "    elif not any(char in symbols for char in user_pass):\n",
    "        print(\"Password should have at least one symbol\")\n",
    "    else:\n",
    "        print(\"Password Accepted\")"
   ]
  },
  {
   "cell_type": "code",
   "execution_count": 24,
   "id": "f0e887a9-64d9-45fa-976b-98d75a0455c2",
   "metadata": {},
   "outputs": [
    {
     "name": "stdin",
     "output_type": "stream",
     "text": [
      "Enter number of rows:  2\n",
      "Enter number of columns:  2\n"
     ]
    },
    {
     "name": "stdout",
     "output_type": "stream",
     "text": [
      "Enter elements for matrix1:\n"
     ]
    },
    {
     "name": "stdin",
     "output_type": "stream",
     "text": [
      " 1\n",
      " 2\n",
      " 3\n",
      " 4\n"
     ]
    },
    {
     "name": "stdout",
     "output_type": "stream",
     "text": [
      "matrix1: \n",
      "1  2  \n",
      "3  4  \n",
      "Enter elements for matrix2: \n"
     ]
    },
    {
     "name": "stdin",
     "output_type": "stream",
     "text": [
      " 4\n",
      " 3\n",
      " 2\n",
      " 1\n"
     ]
    },
    {
     "name": "stdout",
     "output_type": "stream",
     "text": [
      "matrix2: \n",
      "4  3  \n",
      "2  1  \n",
      "Addition Matrix\n",
      "5  5  \n",
      "5  5  \n",
      "Subtraction Matrix\n",
      "-3 -1 \n",
      "1  3  \n"
     ]
    }
   ],
   "source": [
    "# 32. Develop a program that performs matrix addition and subtraction based on user input.\n",
    "row=int(input(\"Enter number of rows: \"))\n",
    "col=int(input(\"Enter number of columns: \"))\n",
    "res_add_mat=[[0 for i in range(col)] for j in range(row)]\n",
    "res_sub_mat=[[0 for i in range(col)] for j in range(row)]\n",
    "print(\"Enter elements for matrix1:\")\n",
    "mat1=[[int(input()) for i in range(col)] for j in range(row)]\n",
    "print(\"matrix1: \")\n",
    "for i in range(row):\n",
    "    for j in range(col):\n",
    "        print(format(mat1[i][j],\"<3\"), end=\"\")\n",
    "    print()\n",
    "print(\"Enter elements for matrix2: \")\n",
    "mat2=[[int(input()) for i in range(col)] for j in range(row)]\n",
    "print(\"matrix2: \")\n",
    "for i in range(row):\n",
    "    for j in range(col):\n",
    "        print(format(mat2[i][j],\"<3\"), end=\"\")\n",
    "    print()\n",
    "for i in range(row):\n",
    "    for j in range(col):\n",
    "        res_add_mat[i][j]= mat1[i][j] + mat2[i][j]\n",
    "        res_sub_mat[i][j]= mat1[i][j] - mat2[i][j]\n",
    "print(\"Addition Matrix\")\n",
    "for i in range(row):\n",
    "    for j in range(col):\n",
    "        print(format(res_add_mat[i][j],\"<3\"), end=\"\")\n",
    "    print()\n",
    "print(\"Subtraction Matrix\")\n",
    "for i in range(row):\n",
    "    for j in range(col):\n",
    "        print(format(res_sub_mat[i][j],\"<3\"), end=\"\")\n",
    "    print()"
   ]
  },
  {
   "cell_type": "code",
   "execution_count": 27,
   "id": "ca78aff2-56aa-4c0e-825f-f51979c1c562",
   "metadata": {},
   "outputs": [
    {
     "name": "stdin",
     "output_type": "stream",
     "text": [
      "Enter 1st number: 98\n",
      "Enter 2nd number: 56\n"
     ]
    },
    {
     "name": "stdout",
     "output_type": "stream",
     "text": [
      "The computed GCD is 14.\n"
     ]
    }
   ],
   "source": [
    "# 33. Write a program that calculates the greatest common divisor (GCD) of two numbers using the Euclidean algorithm.\n",
    "x = int(input(\"Enter 1st number:\"))\n",
    "y = int(input(\"Enter 2nd number:\"))\n",
    "while y:\n",
    "    x,y = y, x%y\n",
    "print(f\"The computed GCD is {x}.\")"
   ]
  },
  {
   "cell_type": "code",
   "execution_count": 28,
   "id": "71b95d80-f7bb-4170-81b8-73585956f21a",
   "metadata": {},
   "outputs": [
    {
     "name": "stdin",
     "output_type": "stream",
     "text": [
      "Enter number of rows:  2\n",
      "Enter number of columns:  2\n"
     ]
    },
    {
     "name": "stdout",
     "output_type": "stream",
     "text": [
      "Enter elements for matrix1:\n"
     ]
    },
    {
     "name": "stdin",
     "output_type": "stream",
     "text": [
      " 1\n",
      " 2\n",
      " 3\n",
      " 4\n"
     ]
    },
    {
     "name": "stdout",
     "output_type": "stream",
     "text": [
      "matrix1: \n",
      "1  2  \n",
      "3  4  \n",
      "Enter elements for matrix2: \n"
     ]
    },
    {
     "name": "stdin",
     "output_type": "stream",
     "text": [
      " 4\n",
      " 3\n",
      " 2\n",
      " 1\n"
     ]
    },
    {
     "name": "stdout",
     "output_type": "stream",
     "text": [
      "matrix2: \n",
      "4  3  \n",
      "2  1  \n",
      "Multiplied Matrix\n",
      "4  6  \n",
      "6  4  \n"
     ]
    }
   ],
   "source": [
    "# 34. Build a program that performs matrix multiplication using nested loops and conditional statements.\n",
    "row=int(input(\"Enter number of rows: \"))\n",
    "col=int(input(\"Enter number of columns: \"))\n",
    "res_multi_mat=[[0 for i in range(col)] for j in range(row)]\n",
    "print(\"Enter elements for matrix1:\")\n",
    "mat1=[[int(input()) for i in range(col)] for j in range(row)]\n",
    "print(\"matrix1: \")\n",
    "for i in range(row):\n",
    "    for j in range(col):\n",
    "        print(format(mat1[i][j],\"<3\"), end=\"\")\n",
    "    print()\n",
    "print(\"Enter elements for matrix2: \")\n",
    "mat2=[[int(input()) for i in range(col)] for j in range(row)]\n",
    "print(\"matrix2: \")\n",
    "for i in range(row):\n",
    "    for j in range(col):\n",
    "        print(format(mat2[i][j],\"<3\"), end=\"\")\n",
    "    print()\n",
    "for i in range(row):\n",
    "    for j in range(col):\n",
    "        res_multi_mat[i][j]= mat1[i][j] * mat2[i][j]\n",
    "print(\"Multiplied Matrix\")\n",
    "for i in range(row):\n",
    "    for j in range(col):\n",
    "        print(format(res_multi_mat[i][j],\"<3\"), end=\"\")\n",
    "    print()"
   ]
  },
  {
   "cell_type": "code",
   "execution_count": 45,
   "id": "05cd039f-0392-4a22-a402-2b2b9f816158",
   "metadata": {},
   "outputs": [
    {
     "name": "stdout",
     "output_type": "stream",
     "text": [
      "Below is the tic tac toe Python program. Enjoy Playing!!!\n",
      "The First Player's name\n"
     ]
    },
    {
     "name": "stdin",
     "output_type": "stream",
     "text": [
      "Please mention your name:  Ejk\n"
     ]
    },
    {
     "name": "stdout",
     "output_type": "stream",
     "text": [
      "\n",
      "\n",
      "The Second Player's name\n"
     ]
    },
    {
     "name": "stdin",
     "output_type": "stream",
     "text": [
      "Please mention your name:   Computer\n"
     ]
    },
    {
     "name": "stdout",
     "output_type": "stream",
     "text": [
      "\n",
      "\n",
      "\t--------------------------------\n",
      "\t         The SCOREBOARD for TIC TAC TOE PYTHON GAME       \n",
      "\t--------------------------------\n",
      "\t    Ejk \t     0\n",
      "\t    Computer \t     0\n",
      "\t--------------------------------\n",
      "\n",
      "Ejk , you get the chance to make the choice for the series of the Tic tac toe Python game:\n",
      "Please press 1 for X\n",
      "Please press 2 for O\n",
      "Please press 3 for Exit\n"
     ]
    },
    {
     "name": "stdin",
     "output_type": "stream",
     "text": [
      " 1\n"
     ]
    },
    {
     "name": "stdout",
     "output_type": "stream",
     "text": [
      "using the data structure to store the filled positions denoted by X and O \n",
      "\n",
      "\n",
      "\t      |      |\n",
      "\t      |      |   \n",
      "\t______|______|______\n",
      "\t      |      |\n",
      "\t      |      |   \n",
      "\t______|______|______\n",
      "\t      |      |\n",
      "\t      |      |   \n",
      "\t      |      |\n",
      "\n",
      "\n",
      " To handle the input from the player using the Try-Exception block for 'CHANCE' input \n",
      "The player  X  turn. Now you need to choose your block : "
     ]
    },
    {
     "name": "stdin",
     "output_type": "stream",
     "text": [
      " 1\n"
     ]
    },
    {
     "name": "stdout",
     "output_type": "stream",
     "text": [
      "Below is the sanity check for 'CHANCE' input\n",
      " To check if the block in the grid is not filled up already \n",
      "\n",
      "\n",
      "\t      |      |\n",
      "\t    X |      |   \n",
      "\t______|______|______\n",
      "\t      |      |\n",
      "\t      |      |   \n",
      "\t______|______|______\n",
      "\t      |      |\n",
      "\t      |      |   \n",
      "\t      |      |\n",
      "\n",
      "\n",
      " To handle the input from the player using the Try-Exception block for 'CHANCE' input \n",
      "The player  O  turn. Now you need to choose your block : "
     ]
    },
    {
     "name": "stdin",
     "output_type": "stream",
     "text": [
      " 5\n"
     ]
    },
    {
     "name": "stdout",
     "output_type": "stream",
     "text": [
      "Below is the sanity check for 'CHANCE' input\n",
      " To check if the block in the grid is not filled up already \n",
      "\n",
      "\n",
      "\t      |      |\n",
      "\t    X |      |   \n",
      "\t______|______|______\n",
      "\t      |      |\n",
      "\t      |  O   |   \n",
      "\t______|______|______\n",
      "\t      |      |\n",
      "\t      |      |   \n",
      "\t      |      |\n",
      "\n",
      "\n",
      " To handle the input from the player using the Try-Exception block for 'CHANCE' input \n",
      "The player  X  turn. Now you need to choose your block : "
     ]
    },
    {
     "name": "stdin",
     "output_type": "stream",
     "text": [
      " 2\n"
     ]
    },
    {
     "name": "stdout",
     "output_type": "stream",
     "text": [
      "Below is the sanity check for 'CHANCE' input\n",
      " To check if the block in the grid is not filled up already \n",
      "\n",
      "\n",
      "\t      |      |\n",
      "\t    X |  X   |   \n",
      "\t______|______|______\n",
      "\t      |      |\n",
      "\t      |  O   |   \n",
      "\t______|______|______\n",
      "\t      |      |\n",
      "\t      |      |   \n",
      "\t      |      |\n",
      "\n",
      "\n",
      " To handle the input from the player using the Try-Exception block for 'CHANCE' input \n",
      "The player  O  turn. Now you need to choose your block : "
     ]
    },
    {
     "name": "stdin",
     "output_type": "stream",
     "text": [
      " 7\n"
     ]
    },
    {
     "name": "stdout",
     "output_type": "stream",
     "text": [
      "Below is the sanity check for 'CHANCE' input\n",
      " To check if the block in the grid is not filled up already \n",
      "\n",
      "\n",
      "\t      |      |\n",
      "\t    X |  X   |   \n",
      "\t______|______|______\n",
      "\t      |      |\n",
      "\t      |  O   |   \n",
      "\t______|______|______\n",
      "\t      |      |\n",
      "\t  O   |      |   \n",
      "\t      |      |\n",
      "\n",
      "\n",
      " To handle the input from the player using the Try-Exception block for 'CHANCE' input \n",
      "The player  X  turn. Now you need to choose your block : "
     ]
    },
    {
     "name": "stdin",
     "output_type": "stream",
     "text": [
      " 3\n"
     ]
    },
    {
     "name": "stdout",
     "output_type": "stream",
     "text": [
      "Below is the sanity check for 'CHANCE' input\n",
      " To check if the block in the grid is not filled up already \n",
      "\n",
      "\n",
      "\t      |      |\n",
      "\t    X |  X   |  X\n",
      "\t______|______|______\n",
      "\t      |      |\n",
      "\t      |  O   |   \n",
      "\t______|______|______\n",
      "\t      |      |\n",
      "\t  O   |      |   \n",
      "\t      |      |\n",
      "\n",
      "\n",
      "Hurray! You nailed it!  X  has won the tic tac toe Python game!\n",
      "\n",
      "\n",
      "\t--------------------------------\n",
      "\t         The SCOREBOARD for TIC TAC TOE PYTHON GAME       \n",
      "\t--------------------------------\n",
      "\t    Ejk \t     1\n",
      "\t    Computer \t     0\n",
      "\t--------------------------------\n",
      "\n",
      "Computer , you get the chance to make the choice for the series of the Tic tac toe Python game:\n",
      "Please press 1 for X\n",
      "Please press 2 for O\n",
      "Please press 3 for Exit\n"
     ]
    },
    {
     "name": "stdin",
     "output_type": "stream",
     "text": [
      " 3\n"
     ]
    },
    {
     "name": "stdout",
     "output_type": "stream",
     "text": [
      "Thanks for playing the game!!!\n",
      "The final scores are\n",
      "\t--------------------------------\n",
      "\t         The SCOREBOARD for TIC TAC TOE PYTHON GAME       \n",
      "\t--------------------------------\n",
      "\t    Ejk \t     1\n",
      "\t    Computer \t     0\n",
      "\t--------------------------------\n",
      "\n"
     ]
    }
   ],
   "source": [
    "# 35. Create a program that simulates a basic text-based tic-tac-toe game against the computer.\n",
    "print (\"Below is the tic tac toe Python program. Enjoy Playing!!!\")\n",
    "###Designing the tic tac toe Python 3X3 grid gameboard of tic tac toe Python\n",
    "\n",
    " \n",
    "def tictactoe_grid(value):  \n",
    "    print(\"\\n\")  \n",
    "    print(\"\\t      |      |\")  \n",
    "    print(\"\\t    {} |  {}   |  {}\".format(value[0], value[1], value[2]))  \n",
    "    print('\\t______|______|______')  \n",
    "# printing the first three boxes of the 3X3 game board   \n",
    "    print(\"\\t      |      |\") \n",
    "    print(\"\\t   {}  |  {}   |  {}\".format(value[3], value[4], value[5]))  \n",
    "    print('\\t______|______|______')  \n",
    "    print(\"\\t      |      |\")  \n",
    "# printing the second three boxes of the 3X3 game board   \n",
    "    print(\"\\t  {}   |  {}   |  {}\".format(value[6], value[7], value[8]))  \n",
    "    print(\"\\t      |      |\")  \n",
    "    print(\"\\n\") \n",
    "# printing the last three boxes of the 3X3 game board   \n",
    " \n",
    "####To Design the Scoreboard\n",
    "# Use the user-defined function Python to create a scoreboard to capture the scores made during the game and display this when the game ends.\n",
    "def my_scoreboard(score_board):  \n",
    "    print(\"\\t--------------------------------\")  \n",
    "    print(\"\\t         The SCOREBOARD for TIC TAC TOE PYTHON GAME       \")  \n",
    "    print(\"\\t--------------------------------\")  \n",
    "   \n",
    "    list_of_the_two_players = list(score_board.keys())  \n",
    "    print(\"\\t   \", list_of_the_two_players[0], \"\\t    \", score_board[list_of_the_two_players[0]])  \n",
    "    print(\"\\t   \", list_of_the_two_players[1], \"\\t    \", score_board[list_of_the_two_players[1]])  \n",
    "   \n",
    "    print(\"\\t--------------------------------\\n\")\n",
    " \n",
    "###To validate the Win or Tie situation of tic tac toe Python\n",
    "# User-defined function Python for validating the win combinations in the entire tic tac toe Python game  \n",
    "def win_validate(position_player, player_current):  \n",
    "   \n",
    " # Below are all the possible winning combinations that were analyzed to win the tic tac toe Python game  \n",
    "    win_combinations = [[1, 2, 3], [4, 5, 6], [7, 8, 9], [1, 4, 7], [2, 5, 8], [3, 6, 9], [1, 5, 9], [3, 5, 7]]  \n",
    "   \n",
    "# using the for loop in Python to validate if any winning combination is getting validated as TRUE or not  \n",
    "    for i in win_combinations:  \n",
    "        if all(j in position_player[player_current] for j in i):  \n",
    "   \n",
    "# If any winning combination is getting validated as TRUE then the function shall return TRUE  \n",
    "            return True  \n",
    "# If any winning combination is not getting validated as TRUE then the function shall return FALSE   \n",
    "    return False         \n",
    "   \n",
    "# User-defined function Python for validating is the tic ta toe Python game is a tie   \n",
    "def tie_validate(position_player):  \n",
    "    if len(position_player['X']) + len(position_player['O']) == 9:  \n",
    "        return True  \n",
    "    return False     \n",
    "        \n",
    "\n",
    "###Using the Data Structure to Store Data for a single game of tic tac toe Python\n",
    "\n",
    "def game_single(player_current):  \n",
    "# function to highlight the tic tac toe Python game  \n",
    "    value = [' ' for i in range(9)]  \n",
    "       \n",
    "    print(\"using the data structure to store the filled positions denoted by X and O \")\n",
    "    position_player = {'X' : [], 'O' : []} \n",
    "\n",
    "###To Understand the design of Game-Loop of tic tac toe Python\n",
    "    while True:  \n",
    "        tictactoe_grid(value)\n",
    "#using the while loop to call the  tictactoe_grid function whenever it remains TRUE.\n",
    "        print(\" To handle the input from the player using the Try-Exception block for 'CHANCE' input \")\n",
    "\n",
    "        try:  \n",
    "            print(\"The player \", player_current, \" turn. Now you need to choose your block : \", end=\"\")  \n",
    "            chance = int(input())  \n",
    "        except ValueError:  \n",
    "            print(\"This is an Invalid Input!!! Please try again!\")  \n",
    "            continue\n",
    "  \n",
    "        print(\"Below is the sanity check for 'CHANCE' input\")  \n",
    "        if chance < 1 or chance > 9:  \n",
    "            print(\"This is an Invalid Input!!! Please try again!\")  \n",
    "            continue  \n",
    "   \n",
    "        print(\" To check if the block in the grid is not filled up already \") \n",
    "        if value[chance - 1] != ' ':  \n",
    "            print(\"Oops! The position is already filled. Please try again!\")  \n",
    "            continue  \n",
    "\n",
    "\n",
    "###To update the inputs from a player into the game information of tic tac toe Python\n",
    "\n",
    "        value[chance - 1] = player_current  \n",
    "# By adding the above code, we update the status of the gameboard  \n",
    " \n",
    "        position_player[player_current].append(chance)  \n",
    "# By adding the above code, we update the player's position on the grid.\n",
    " \n",
    "# calling the UDF to check for Win  \n",
    "        if win_validate(position_player, player_current):  \n",
    "            tictactoe_grid(value)  \n",
    "            print(\"Hurray! You nailed it! \", player_current, \" has won the tic tac toe Python game!\")       \n",
    "            print(\"\\n\")  \n",
    "            return player_current  \n",
    "      \n",
    "# calling the UDF to check for Tie  \n",
    "        if tie_validate(position_player):  \n",
    "            tictactoe_grid(value)  \n",
    "            print(\"It was close! Game is Tied\")  \n",
    "            print(\"\\n\")  \n",
    "            return 'D'  \n",
    " \n",
    "###To validate switching between the player once the chance of one player is executed\n",
    "# using the if-else loop in Python to make the switch between the player  \n",
    "        if player_current == 'X':  \n",
    "            player_current = 'O'  \n",
    "        else:  \n",
    "            player_current = 'X'\n",
    "    \n",
    "    \n",
    "###To Record the Player's names to observe on the scoreboard\n",
    "\n",
    "if __name__ == \"__main__\":  \n",
    "   \n",
    "    print(\"The First Player's name\")  \n",
    "    player_first = input(\"Please mention your name: \")  \n",
    "    print(\"\\n\")  \n",
    "# implmenting the input function in Python to allow the user of the game to input its name.\n",
    "\n",
    "    print(\"The Second Player's name\")  \n",
    "    player_second = input(\"Please mention your name:  \")  \n",
    "    print(\"\\n\")\n",
    "     \n",
    "###To capture the game information\n",
    "# Capturing the player who chooses the  X and O  \n",
    "    player_current = player_first  \n",
    "   \n",
    "# Capturing the players' choice  \n",
    "    player_choice = {'X' : \"\", 'O' : \"\"}  \n",
    "   \n",
    "# Storing the two possible options available for the tic tac toe Python game \n",
    "    option = ['X', 'O']  \n",
    "   \n",
    "# Storing the information that needs to be captured in the scoreboard  \n",
    "    score_board = {player_first: 0, player_second: 0}  \n",
    "    my_scoreboard(score_board)  \n",
    " \n",
    "###For creating an Outer loop to make our game flexible and allow multiple games of tic tac toe Python to be played\n",
    "\n",
    "# Using the while function in Python for adding multiple series of games until the players call it an exit.\n",
    "    while True:  \n",
    "# Menu displayed to the players\n",
    "        print(player_current, \", you get the chance to make the choice for the series of the Tic tac toe Python game:\")  \n",
    "        print(\"Please press 1 for X\")  \n",
    "        print(\"Please press 2 for O\")  \n",
    "        print(\"Please press 3 for Exit\") \n",
    " \n",
    "###To Handle Exception and Allot the selection of the symbol for the current player for each iteration of the game\n",
    "\n",
    "# The try-except block for the_choice input from the player  \n",
    "        try:  \n",
    "            the_choice = int(input())     \n",
    "        except ValueError:  \n",
    "            print(\"This input is Invalid!!! Please Try Again\\n\")  \n",
    "            continue  \n",
    "   \n",
    "# if Elif else loop in Python to define the condition for the selection made.   \n",
    "        if the_choice == 1:  \n",
    "            player_choice['X'] = player_current  \n",
    "            if player_current == player_first:  \n",
    "                player_choice['O'] = player_second  \n",
    "            else:  \n",
    "                player_choice['O'] = player_first  \n",
    "   \n",
    "        elif the_choice == 2:  \n",
    "            player_choice['O'] = player_current  \n",
    "            if player_current == player_first:  \n",
    "                player_choice['X'] = player_second  \n",
    "            else:  \n",
    "                player_choice['X'] = player_first  \n",
    "           \n",
    "        elif the_choice == 3:\n",
    "            print(\"Thanks for playing the game!!!\")\n",
    "            print(\"The final scores are\")  \n",
    "            my_scoreboard(score_board)  \n",
    "            break    \n",
    "   \n",
    "        else:  \n",
    "            print(\"This is an Invalid choice!! Please try again\\n\") \n",
    " \n",
    "###Execution of the tic tac toe Python game and updating the scoreboard simultaneously\n",
    "# Capturing the winner of the single game of Tic-Tac-Toe Python\n",
    "        winner = game_single(option[the_choice - 1]) \n",
    "\n",
    "# As per the scores obtained the winner is getting updated on the scoreboard  \n",
    "        if winner != 'D' :  \n",
    "            player_won = player_choice[winner]  \n",
    "            score_board[player_won] = score_board[player_won] + 1 \n",
    " \n",
    "            my_scoreboard(score_board)\n",
    "\n",
    "###Swapping the chance given to choose the symbol between the selecting player\n",
    "# Swapping between the players after each game for who will choose X or O  \n",
    "        if player_current == player_first:  \n",
    "            player_current = player_second  \n",
    "        else:  \n",
    "            player_current = player_first \n"
   ]
  },
  {
   "cell_type": "code",
   "execution_count": 31,
   "id": "5cff0a08-a555-46b3-b41c-e18cf7a121ab",
   "metadata": {},
   "outputs": [
    {
     "name": "stdin",
     "output_type": "stream",
     "text": [
      "How many terms?  15\n"
     ]
    },
    {
     "name": "stdout",
     "output_type": "stream",
     "text": [
      "Fibonacci sequence:\n",
      "0\n",
      "1\n",
      "1\n",
      "2\n",
      "3\n",
      "5\n",
      "8\n",
      "13\n",
      "21\n",
      "34\n",
      "55\n",
      "89\n",
      "144\n",
      "233\n",
      "377\n"
     ]
    }
   ],
   "source": [
    "# 36. Write a program that generates Fibonacci numbers up to a specified term using iterative methods.\n",
    "nterms = int(input(\"How many terms? \"))\n",
    "n1, n2 = 0, 1\n",
    "count = 0\n",
    "\n",
    "if nterms <= 0:\n",
    "   print(\"Please enter a positive integer\")\n",
    "elif nterms == 1:\n",
    "   print(\"Fibonacci sequence upto\",nterms,\":\")\n",
    "   print(n1)\n",
    "else:\n",
    "   print(\"Fibonacci sequence:\")\n",
    "   while count < nterms:\n",
    "       print(n1)\n",
    "       nth = n1 + n2\n",
    "       n1 = n2\n",
    "       n2 = nth\n",
    "       count += 1"
   ]
  },
  {
   "cell_type": "code",
   "execution_count": 33,
   "id": "8aa492fd-95ff-42b7-bc41-23adb153f39d",
   "metadata": {},
   "outputs": [
    {
     "name": "stdin",
     "output_type": "stream",
     "text": [
      "Enter n:  14\n"
     ]
    },
    {
     "name": "stdout",
     "output_type": "stream",
     "text": [
      "The nth Fibonacci number: 377\n"
     ]
    }
   ],
   "source": [
    "# 37. Develop a program that calculates the nth term of the Fibonacci sequence using memoization.\n",
    "def fibonacci(n):\n",
    "    r = [-1]*(n + 1)\n",
    "    return fibonacci_helper(n, r)\n",
    " \n",
    " \n",
    "def fibonacci_helper(n, r):\n",
    "    if r[n] >= 0:\n",
    "        return r[n]\n",
    " \n",
    "    if (n == 0 or n == 1):\n",
    "        q = n\n",
    "    else:\n",
    "        q = fibonacci_helper(n - 1, r) + fibonacci_helper(n - 2, r)\n",
    "    r[n] = q \n",
    "    return q\n",
    " \n",
    " \n",
    "n = int(input('Enter n: ')) \n",
    "ans = fibonacci(n)\n",
    "print('The nth Fibonacci number:', ans)"
   ]
  },
  {
   "cell_type": "code",
   "execution_count": 35,
   "id": "31ceaeaf-a781-4950-b0e7-4db83a2ba0fe",
   "metadata": {},
   "outputs": [
    {
     "name": "stdin",
     "output_type": "stream",
     "text": [
      "Enter a year: 2024\n",
      "Enter a month: 2\n"
     ]
    },
    {
     "name": "stdout",
     "output_type": "stream",
     "text": [
      "1 2 3 4 5 6 7 8 9 10 11 12 13 14 15 16 17 18 19 20 21 22 23 24 25 26 27 28 29 "
     ]
    }
   ],
   "source": [
    "# 38. Create a program that generates a calendar for a given month and year using conditional statements.\n",
    "yr = int(input(\"Enter a year:\"))\n",
    "mon = int(input(\"Enter a month:\"))\n",
    "if (yr % 4 == 0 and yr % 100 != 0) or (yr % 400 == 0):\n",
    "    leap_flg = True\n",
    "else:\n",
    "    leap_flg = False\n",
    "if mon in range(1,13):\n",
    "    if mon in [1, 3, 5, 7, 8, 10, 12]:\n",
    "        days_cnt = 31\n",
    "    elif mon in [4, 6, 9, 11]:\n",
    "        days_cnt = 30\n",
    "    else:\n",
    "        if leap_flg:\n",
    "            days_cnt = 29\n",
    "        else:\n",
    "            days_cnt = 28\n",
    "    for i in range(days_cnt):\n",
    "        print(i+1, end = \" \")\n",
    "else:\n",
    "    print(\"Invalid month\")"
   ]
  },
  {
   "cell_type": "code",
   "execution_count": 36,
   "id": "c31cc2dd-ea3f-4917-91a0-af53ee99bac9",
   "metadata": {},
   "outputs": [
    {
     "name": "stdout",
     "output_type": "stream",
     "text": [
      "Cards Player Has: [('5', 'Diamonds'), ('6', 'Spades')]\n",
      "Score Of The Player: 11\n",
      "\n",
      "\n"
     ]
    },
    {
     "name": "stdin",
     "output_type": "stream",
     "text": [
      "What do you want? [\"play\" to request another card, \"stop\" to stop]:  play\n"
     ]
    },
    {
     "name": "stdout",
     "output_type": "stream",
     "text": [
      "Cards Player Has: [('5', 'Diamonds'), ('6', 'Spades'), ('4', 'Diamonds')]\n",
      "Score Of The Player: 15\n",
      "\n",
      "\n"
     ]
    },
    {
     "name": "stdin",
     "output_type": "stream",
     "text": [
      "What do you want? [\"play\" to request another card, \"stop\" to stop]:  play\n"
     ]
    },
    {
     "name": "stdout",
     "output_type": "stream",
     "text": [
      "Cards Player Has: [('5', 'Diamonds'), ('6', 'Spades'), ('4', 'Diamonds'), ('2', 'Diamonds')]\n",
      "Score Of The Player: 17\n",
      "\n",
      "\n"
     ]
    },
    {
     "name": "stdin",
     "output_type": "stream",
     "text": [
      "What do you want? [\"play\" to request another card, \"stop\" to stop]:  play\n"
     ]
    },
    {
     "name": "stdout",
     "output_type": "stream",
     "text": [
      "Cards Player Has: [('5', 'Diamonds'), ('6', 'Spades'), ('4', 'Diamonds'), ('2', 'Diamonds'), ('9', 'Clubs')]\n",
      "Score Of The Player: 26\n",
      "\n",
      "\n"
     ]
    },
    {
     "name": "stdin",
     "output_type": "stream",
     "text": [
      "What do you want? [\"play\" to request another card, \"stop\" to stop]:  stop\n"
     ]
    },
    {
     "name": "stdout",
     "output_type": "stream",
     "text": [
      "Cards Dealer Has: [('3', 'Spades'), ('8', 'Spades'), ('Jack', 'Hearts')]\n",
      "Score Of The Dealer: 21\n",
      "\n",
      "\n",
      "Cards Dealer Has: [('3', 'Spades'), ('8', 'Spades'), ('Jack', 'Hearts')]\n",
      "Score Of The Dealer: 21\n",
      "Cards Player Has: [('5', 'Diamonds'), ('6', 'Spades'), ('4', 'Diamonds'), ('2', 'Diamonds'), ('9', 'Clubs')]\n",
      "Score Of The Player: 26\n",
      "Player wins (Player Has High Score than Dealer)\n"
     ]
    }
   ],
   "source": [
    "# 39. Build a program that simulates a basic text-based blackjack game against the computer.\n",
    "import random\n",
    "\n",
    "card_categories = ['Hearts', 'Diamonds', 'Clubs', 'Spades']\n",
    "cards_list = ['Ace', '2', '3', '4', '5', '6', '7', '8', '9', '10', 'Jack', 'Queen', 'King']\n",
    "deck = [(card, category) for category in card_categories for card in cards_list]\n",
    "\n",
    "def card_value(card):\n",
    "\tif card[0] in ['Jack', 'Queen', 'King']:\n",
    "\t\treturn 10\n",
    "\telif card[0] == 'Ace':\n",
    "\t\treturn 11\n",
    "\telse:\n",
    "\t\treturn int(card[0])\n",
    "\n",
    "random.shuffle(deck)\n",
    "player_card = [deck.pop(), deck.pop()]\n",
    "dealer_card = [deck.pop(), deck.pop()]\n",
    "\n",
    "while True:\n",
    "\tplayer_score = sum(card_value(card) for card in player_card)\n",
    "\tdealer_score = sum(card_value(card) for card in dealer_card)\n",
    "\tprint(\"Cards Player Has:\", player_card)\n",
    "\tprint(\"Score Of The Player:\", player_score)\n",
    "\tprint(\"\\n\")\n",
    "\tchoice = input('What do you want? [\"play\" to request another card, \"stop\" to stop]: ').lower()\n",
    "\tif choice == \"play\":\n",
    "\t\tnew_card = deck.pop()\n",
    "\t\tplayer_card.append(new_card)\n",
    "\telif choice == \"stop\":\n",
    "\t\tbreak\n",
    "\telse:\n",
    "\t\tprint(\"Invalid choice. Please try again.\")\n",
    "\t\tcontinue\n",
    "\n",
    "\tif player_score > 21:\n",
    "\t\tprint(\"Cards Dealer Has:\", dealer_card)\n",
    "\t\tprint(\"Score Of The Dealer:\", dealer_score)\n",
    "\t\tprint(\"Cards Player Has:\", player_card)\n",
    "\t\tprint(\"Score Of The Player:\", player_score)\n",
    "\t\tprint(\"Dealer wins (Player Loss Because Player Score is exceeding 21)\")\n",
    "\t\tbreak\n",
    "\n",
    "while dealer_score < 17:\n",
    "\tnew_card = deck.pop()\n",
    "\tdealer_card.append(new_card)\n",
    "\tdealer_score += card_value(new_card)\n",
    "\n",
    "print(\"Cards Dealer Has:\", dealer_card)\n",
    "print(\"Score Of The Dealer:\", dealer_score)\n",
    "print(\"\\n\")\n",
    "\n",
    "if dealer_score > 21:\n",
    "\tprint(\"Cards Dealer Has:\", dealer_card)\n",
    "\tprint(\"Score Of The Dealer:\", dealer_score)\n",
    "\tprint(\"Cards Player Has:\", player_card)\n",
    "\tprint(\"Score Of The Player:\", player_score)\n",
    "\tprint(\"Player wins (Dealer Loss Because Dealer Score is exceeding 21)\")\n",
    "elif player_score > dealer_score:\n",
    "\tprint(\"Cards Dealer Has:\", dealer_card)\n",
    "\tprint(\"Score Of The Dealer:\", dealer_score)\n",
    "\tprint(\"Cards Player Has:\", player_card)\n",
    "\tprint(\"Score Of The Player:\", player_score)\n",
    "\tprint(\"Player wins (Player Has High Score than Dealer)\")\n",
    "elif dealer_score > player_score:\n",
    "\tprint(\"Cards Dealer Has:\", dealer_card)\n",
    "\tprint(\"Score Of The Dealer:\", dealer_score)\n",
    "\tprint(\"Cards Player Has:\", player_card)\n",
    "\tprint(\"Score Of The Player:\", player_score)\n",
    "\tprint(\"Dealer wins (Dealer Has High Score than Player)\")\n",
    "else:\n",
    "\tprint(\"Cards Dealer Has:\", dealer_card)\n",
    "\tprint(\"Score Of The Dealer:\", dealer_score)\n",
    "\tprint(\"Cards Player Has:\", player_card)\n",
    "\tprint(\"Score Of The Player:\", player_score)\n",
    "\tprint(\"It's a tie.\")\n",
    "\n"
   ]
  },
  {
   "cell_type": "code",
   "execution_count": 40,
   "id": "0c65d856-3982-4b5f-84ac-a7775d364217",
   "metadata": {},
   "outputs": [
    {
     "name": "stdin",
     "output_type": "stream",
     "text": [
      "Enter the number 1000\n"
     ]
    },
    {
     "name": "stdout",
     "output_type": "stream",
     "text": [
      "[2, 2, 2, 5, 5, 5.0]\n"
     ]
    }
   ],
   "source": [
    "# 40. Write a program that generates the prime factors of a given number using trial division.\n",
    "def factor1(n): \n",
    "    for d in range(2,int((n**0.5))+1): \n",
    "        if (n%d==0): \n",
    "                return [d]+factor1(n/d) \n",
    "    return [n]\n",
    "n = int(input(\"Enter the number\"))\n",
    "print(factor1(n))\n"
   ]
  },
  {
   "cell_type": "code",
   "execution_count": null,
   "id": "47559639-2a5d-4255-a763-95037612389b",
   "metadata": {},
   "outputs": [],
   "source": []
  }
 ],
 "metadata": {
  "kernelspec": {
   "display_name": "Python 3 (ipykernel)",
   "language": "python",
   "name": "python3"
  },
  "language_info": {
   "codemirror_mode": {
    "name": "ipython",
    "version": 3
   },
   "file_extension": ".py",
   "mimetype": "text/x-python",
   "name": "python",
   "nbconvert_exporter": "python",
   "pygments_lexer": "ipython3",
   "version": "3.10.10"
  }
 },
 "nbformat": 4,
 "nbformat_minor": 5
}

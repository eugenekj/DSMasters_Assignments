{
 "cells": [
  {
   "cell_type": "code",
   "execution_count": 1,
   "id": "5030612d-130d-42f4-addb-bb9abac64b0c",
   "metadata": {},
   "outputs": [
    {
     "name": "stdout",
     "output_type": "stream",
     "text": [
      "gnirts a esreveR\n"
     ]
    }
   ],
   "source": [
    "# String Based Assignment Problem\n",
    "# 1 Write a program to reverse a string\n",
    "s1 = \"Reverse a string\"\n",
    "print(s1[::-1])"
   ]
  },
  {
   "cell_type": "code",
   "execution_count": 2,
   "id": "23dec314-85bd-4fd6-b762-9bd9f36c5e83",
   "metadata": {},
   "outputs": [
    {
     "name": "stdout",
     "output_type": "stream",
     "text": [
      "Palindrome is not a palindrome\n"
     ]
    }
   ],
   "source": [
    "# 2 Check if a string is a palindrome\n",
    "s2 = \"Palindrome\"\n",
    "revs2 = s2[::-1]\n",
    "if s2 == revs2:\n",
    "    print(s2, \"is a palindrome\")\n",
    "else:\n",
    "    print(s2, \"is not a palindrome\")"
   ]
  },
  {
   "cell_type": "code",
   "execution_count": 3,
   "id": "bf01304e-e3cb-4788-9e57-a9792f90d5c7",
   "metadata": {},
   "outputs": [
    {
     "name": "stdout",
     "output_type": "stream",
     "text": [
      "UPPERCASE\n"
     ]
    }
   ],
   "source": [
    "# 3 Convert a string t0 uppercase\n",
    "s3 = \"uppercase\"\n",
    "print(s3.upper())"
   ]
  },
  {
   "cell_type": "code",
   "execution_count": 4,
   "id": "26ebaf75-3fc7-481b-bb85-f37632da99cb",
   "metadata": {},
   "outputs": [
    {
     "name": "stdout",
     "output_type": "stream",
     "text": [
      "lowercase\n"
     ]
    }
   ],
   "source": [
    "# 4 Convert a string to lowercase\n",
    "s4 = \"LOWERcase\"\n",
    "print(s4.lower())"
   ]
  },
  {
   "cell_type": "code",
   "execution_count": 5,
   "id": "fa36ee3c-a347-4f63-8ef2-fad34cd6d482",
   "metadata": {},
   "outputs": [
    {
     "name": "stdout",
     "output_type": "stream",
     "text": [
      "Count of vowels: 6\n"
     ]
    }
   ],
   "source": [
    "# 5 Count no of vowels in string\n",
    "s5 = \"no of vowels in string\"\n",
    "v5 = 'aeiou'\n",
    "print(\"Count of vowels:\",sum(s5.count(i) for i in v5))"
   ]
  },
  {
   "cell_type": "code",
   "execution_count": 6,
   "id": "c09d90f7-7767-423d-bb90-d9898998da9c",
   "metadata": {},
   "outputs": [
    {
     "name": "stdout",
     "output_type": "stream",
     "text": [
      "19\n"
     ]
    }
   ],
   "source": [
    "# 6 Count no of constants in string\n",
    "s6 = \"no of constants in string\"\n",
    "v6 = 'aeiou'\n",
    "vcnt = sum(s5.count(i) for i in v6)\n",
    "print(len(s6)-vcnt)"
   ]
  },
  {
   "cell_type": "code",
   "execution_count": 7,
   "id": "fba7af8f-4ccf-485f-a465-df3d4d0a655e",
   "metadata": {},
   "outputs": [
    {
     "name": "stdout",
     "output_type": "stream",
     "text": [
      "String without space: Removeallwhitespacesfromastring\n"
     ]
    }
   ],
   "source": [
    "# 7 Remove all whitespaces from a string\n",
    "s7 = \"Remove all whitespaces from a string\"\n",
    "print(\"String without space:\", s7.replace(' ',''))"
   ]
  },
  {
   "cell_type": "code",
   "execution_count": 8,
   "id": "4119ae2b-3c95-45e4-b7d8-8593b6449927",
   "metadata": {},
   "outputs": [
    {
     "name": "stdout",
     "output_type": "stream",
     "text": [
      "16\n"
     ]
    }
   ],
   "source": [
    "# 8 Find the length of string without using the len() function\n",
    "s8 = 'length of string'\n",
    "cnt = 0\n",
    "for i in s8: \n",
    "    cnt+=1\n",
    "print(cnt)"
   ]
  },
  {
   "cell_type": "code",
   "execution_count": 9,
   "id": "b84a9cc0-dd15-4c4b-bde5-df99722ca725",
   "metadata": {},
   "outputs": [
    {
     "name": "stdout",
     "output_type": "stream",
     "text": [
      "True\n"
     ]
    }
   ],
   "source": [
    "# 9 check if string contains specific word\n",
    "s9 = \"check if string contains specific word\"\n",
    "print('specific' in s9)"
   ]
  },
  {
   "cell_type": "code",
   "execution_count": 10,
   "id": "cefbb73a-72ed-47a2-95a8-cebdc3d81366",
   "metadata": {},
   "outputs": [
    {
     "name": "stdout",
     "output_type": "stream",
     "text": [
      "Replace a word in a string with specific word\n"
     ]
    }
   ],
   "source": [
    "# 10 Replace a word in a string with another word\n",
    "s10 = \"Replace a word in a string with another word\"\n",
    "print(s10.replace('another','specific'))"
   ]
  },
  {
   "cell_type": "code",
   "execution_count": 11,
   "id": "c33af044-ef27-48bf-9c98-cd8f6ea973f0",
   "metadata": {},
   "outputs": [
    {
     "name": "stdout",
     "output_type": "stream",
     "text": [
      "Number of occurrence of in: 2\n"
     ]
    }
   ],
   "source": [
    "# 11. Count the occurrences of a word in a string.\n",
    "s11 = 'Count the occurrences of a word in a string'\n",
    "print('Number of occurrence of in:', s11.count('in'))"
   ]
  },
  {
   "cell_type": "code",
   "execution_count": 12,
   "id": "4abaec58-52ba-4cd4-bfa1-18211f065b4f",
   "metadata": {},
   "outputs": [
    {
     "name": "stdout",
     "output_type": "stream",
     "text": [
      "first occurrence of in: 1\n"
     ]
    }
   ],
   "source": [
    "# 12. Find the first occurrence of a word in a string.\n",
    "s12 = 'Find the first occurrence of a word in a string'\n",
    "print('first occurrence of in:', s12.index('in'))"
   ]
  },
  {
   "cell_type": "code",
   "execution_count": 13,
   "id": "e5996dbc-29fd-4948-b8f0-d31ac2862512",
   "metadata": {},
   "outputs": [
    {
     "name": "stdout",
     "output_type": "stream",
     "text": [
      "last occurrence of in: 43\n"
     ]
    }
   ],
   "source": [
    "# 13. Find the last occurrence of a word in a string.\n",
    "s13 = 'Find the last occurrence of a word in a string'\n",
    "print('last occurrence of in:', s13.rindex('in'))"
   ]
  },
  {
   "cell_type": "code",
   "execution_count": 14,
   "id": "ad6af711-8025-4891-95b4-0779a6051754",
   "metadata": {},
   "outputs": [
    {
     "name": "stdout",
     "output_type": "stream",
     "text": [
      "['Split', 'a', 'string', 'into', 'a', 'list', 'of', 'words.']\n"
     ]
    }
   ],
   "source": [
    "# 14. Split a string into a list of words.\n",
    "s14 = 'Split a string into a list of words.'\n",
    "print(s14.split())"
   ]
  },
  {
   "cell_type": "code",
   "execution_count": 15,
   "id": "58e06c0e-0e42-4056-a10e-c820c1a1105e",
   "metadata": {},
   "outputs": [
    {
     "name": "stdout",
     "output_type": "stream",
     "text": [
      "Join a list of words into a string\n"
     ]
    }
   ],
   "source": [
    "# 15. Join a list of words into a string.\n",
    "l15 = ['Join', 'a', 'list', 'of', 'words', 'into', 'a', 'string']\n",
    "print(' '.join(l15))"
   ]
  },
  {
   "cell_type": "code",
   "execution_count": 16,
   "id": "c06a2384-2afe-4073-bd1f-cb6143c969c5",
   "metadata": {},
   "outputs": [
    {
     "name": "stdout",
     "output_type": "stream",
     "text": [
      "Convert_a_string_where_words_are_separated_by_spaces_to_one_where_words_are_separated_by_underscores\n"
     ]
    }
   ],
   "source": [
    "# 16 Convert a string where words are separated by spaces to one where words are separated by underscores.\n",
    "s16 = 'Convert a string where words are separated by spaces to one where words are separated by underscores'\n",
    "print('_'.join(s16.split()))"
   ]
  },
  {
   "cell_type": "code",
   "execution_count": 17,
   "id": "e1b670d4-24cb-4b3f-827d-5762905af303",
   "metadata": {},
   "outputs": [
    {
     "name": "stdout",
     "output_type": "stream",
     "text": [
      "True\n"
     ]
    }
   ],
   "source": [
    "# 17. Check if a string starts with a specific word or phrase.\n",
    "s17 = 'Check if a string starts with a specific word or phrase'\n",
    "print(s17.startswith('Check'))"
   ]
  },
  {
   "cell_type": "code",
   "execution_count": 18,
   "id": "6694b679-8ff3-45ff-8dd4-059da272918a",
   "metadata": {},
   "outputs": [
    {
     "name": "stdout",
     "output_type": "stream",
     "text": [
      "True\n"
     ]
    }
   ],
   "source": [
    "# 18. Check if a string ends with a specific word or phrase.\n",
    "s18 = 'Check if a string ends with a specific word or phrase'\n",
    "print(s18.endswith('phrase'))"
   ]
  },
  {
   "cell_type": "code",
   "execution_count": 19,
   "id": "922e32f0-0327-43e7-9142-b41c2ad34f85",
   "metadata": {},
   "outputs": [
    {
     "name": "stdout",
     "output_type": "stream",
     "text": [
      "Convert A String To Title Case\n"
     ]
    }
   ],
   "source": [
    "# 19. Convert a string to title case (e.g., \"hello world\" to \"Hello World\").\n",
    "s19 = 'Convert a string to title case'\n",
    "print(s19.title())"
   ]
  },
  {
   "cell_type": "code",
   "execution_count": 20,
   "id": "091af933-36db-4a89-ab0c-b5bccadfa5e3",
   "metadata": {},
   "outputs": [
    {
     "name": "stdout",
     "output_type": "stream",
     "text": [
      "longest\n"
     ]
    }
   ],
   "source": [
    "# 20. Find the longest word in a string.\n",
    "s20 = 'Find the longest word in a string'\n",
    "print(max(s20.split(),key=len))"
   ]
  },
  {
   "cell_type": "code",
   "execution_count": 21,
   "id": "a0c1b34c-ebf0-4a58-b388-1b9ac3b8b879",
   "metadata": {},
   "outputs": [
    {
     "name": "stdout",
     "output_type": "stream",
     "text": [
      "a\n"
     ]
    }
   ],
   "source": [
    "# 21. Find the shortest word in a string.\n",
    "s21 = 'Find the longest word in a string'\n",
    "print(min(s21.split(),key=len))"
   ]
  },
  {
   "cell_type": "code",
   "execution_count": 22,
   "id": "13b8c858-07a1-41b3-acfe-808f3081dcfd",
   "metadata": {},
   "outputs": [
    {
     "name": "stdout",
     "output_type": "stream",
     "text": [
      "string a in words of order the Reverse\n"
     ]
    }
   ],
   "source": [
    "# 22. Reverse the order of words in a string.\n",
    "s22 = 'Reverse the order of words in a string'\n",
    "l22 = s22.split()\n",
    "print(' '.join(reversed(l22)))"
   ]
  },
  {
   "cell_type": "code",
   "execution_count": 23,
   "id": "0e5ea6ca-db83-4e7a-9b5f-308840a94fa5",
   "metadata": {},
   "outputs": [
    {
     "name": "stdout",
     "output_type": "stream",
     "text": [
      "True\n"
     ]
    }
   ],
   "source": [
    "# 23. Check if a string is alphanumeric.\n",
    "s23 = 'alphanumeric23'\n",
    "print(s23.isalnum())"
   ]
  },
  {
   "cell_type": "code",
   "execution_count": 24,
   "id": "41262653-934a-46a7-b6fc-b70b282d170d",
   "metadata": {},
   "outputs": [
    {
     "name": "stdout",
     "output_type": "stream",
     "text": [
      "24\n"
     ]
    }
   ],
   "source": [
    "# 24. Extract all digits from a string.\n",
    "s24 = '24. Extract all digits from a string'\n",
    "result = \"\" \n",
    "for i in s24:\n",
    "    if i.isnumeric():\n",
    "        result += i\n",
    "print(result)"
   ]
  },
  {
   "cell_type": "code",
   "execution_count": 25,
   "id": "3bde18c8-6085-4775-9a4c-e155d42fb4a4",
   "metadata": {},
   "outputs": [
    {
     "name": "stdout",
     "output_type": "stream",
     "text": [
      "Extractallalphabetsfromastring\n"
     ]
    }
   ],
   "source": [
    "# 25. Extract all alphabets from a string.\n",
    "s25 = '25. Extract all alphabets from a string'\n",
    "result = \"\" \n",
    "for i in s25:\n",
    "    if i.isalpha():\n",
    "        result += i\n",
    "print(result)"
   ]
  },
  {
   "cell_type": "code",
   "execution_count": 26,
   "id": "ea4aad14-137a-44cb-b5f3-fc97f18546ee",
   "metadata": {},
   "outputs": [
    {
     "name": "stdout",
     "output_type": "stream",
     "text": [
      "The number of uppercase characters is: 2\n"
     ]
    }
   ],
   "source": [
    "# 26. Count the number of uppercase letters in a string.\n",
    "s26 = 'Count the number of Uppercase letters in a string'\n",
    "lower = 0\n",
    "upper = 0\n",
    "for i in s26:\n",
    "\tif(i.isupper()):\n",
    "\t\t\tupper+=1\n",
    "print(\"The number of uppercase characters is:\",upper)"
   ]
  },
  {
   "cell_type": "code",
   "execution_count": 27,
   "id": "c010e986-1f3f-4140-bbc7-d32c97beab30",
   "metadata": {},
   "outputs": [
    {
     "name": "stdout",
     "output_type": "stream",
     "text": [
      "The number of lowercase characters is: 39\n"
     ]
    }
   ],
   "source": [
    "# 27. Count the number of lowercase letters in a string.\n",
    "s27 = 'Count the number of Lowercase letters in a string'\n",
    "lower = 0\n",
    "upper = 0\n",
    "for i in s26:\n",
    "\tif(i.islower()):\n",
    "\t\t\tlower+=1\n",
    "print(\"The number of lowercase characters is:\",lower)"
   ]
  },
  {
   "cell_type": "code",
   "execution_count": 29,
   "id": "3bd8a98c-fb80-44a0-b0c5-56ab153909d3",
   "metadata": {},
   "outputs": [
    {
     "name": "stdout",
     "output_type": "stream",
     "text": [
      "sWAP tHE cASE OF eACH cHARACTER IN A sTRING\n"
     ]
    }
   ],
   "source": [
    "# 28. Swap the case of each character in a string\n",
    "s28 = 'Swap The Case of Each Character in a String'\n",
    "print(s28.swapcase())"
   ]
  },
  {
   "cell_type": "code",
   "execution_count": 35,
   "id": "097cd230-11f0-46cb-8454-16ce6ae4710b",
   "metadata": {},
   "outputs": [
    {
     "name": "stdout",
     "output_type": "stream",
     "text": [
      "Remove a new word from a string\n"
     ]
    }
   ],
   "source": [
    "# 29. Remove a specific word from a string\n",
    "s29 = 'Remove a specific word from a string'\n",
    "print(s29.replace('specific','new'))"
   ]
  },
  {
   "cell_type": "code",
   "execution_count": null,
   "id": "36fbf0c5-5b61-46f8-b087-cf56a4e26149",
   "metadata": {},
   "outputs": [],
   "source": [
    "# 30. Check if a string is a valid email address"
   ]
  },
  {
   "cell_type": "code",
   "execution_count": null,
   "id": "938cbafa-bfd3-4568-8ad5-ae5a2291c9a5",
   "metadata": {},
   "outputs": [],
   "source": []
  }
 ],
 "metadata": {
  "kernelspec": {
   "display_name": "Python 3 (ipykernel)",
   "language": "python",
   "name": "python3"
  },
  "language_info": {
   "codemirror_mode": {
    "name": "ipython",
    "version": 3
   },
   "file_extension": ".py",
   "mimetype": "text/x-python",
   "name": "python",
   "nbconvert_exporter": "python",
   "pygments_lexer": "ipython3",
   "version": "3.10.10"
  }
 },
 "nbformat": 4,
 "nbformat_minor": 5
}

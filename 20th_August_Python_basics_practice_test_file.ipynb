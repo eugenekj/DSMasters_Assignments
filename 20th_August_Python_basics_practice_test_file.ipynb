{
 "cells": [
  {
   "cell_type": "code",
   "execution_count": 1,
   "id": "5030612d-130d-42f4-addb-bb9abac64b0c",
   "metadata": {},
   "outputs": [
    {
     "name": "stdout",
     "output_type": "stream",
     "text": [
      "gnirts a esreveR\n"
     ]
    }
   ],
   "source": [
    "# String Based Assignment Problem\n",
    "# 1 Write a program to reverse a string\n",
    "s1 = \"Reverse a string\"\n",
    "print(s1[::-1])"
   ]
  },
  {
   "cell_type": "code",
   "execution_count": 2,
   "id": "23dec314-85bd-4fd6-b762-9bd9f36c5e83",
   "metadata": {},
   "outputs": [
    {
     "name": "stdout",
     "output_type": "stream",
     "text": [
      "Palindrome is not a palindrome\n"
     ]
    }
   ],
   "source": [
    "# 2 Check if a string is a palindrome\n",
    "s2 = \"Palindrome\"\n",
    "revs2 = s2[::-1]\n",
    "if s2 == revs2:\n",
    "    print(s2, \"is a palindrome\")\n",
    "else:\n",
    "    print(s2, \"is not a palindrome\")"
   ]
  },
  {
   "cell_type": "code",
   "execution_count": 3,
   "id": "bf01304e-e3cb-4788-9e57-a9792f90d5c7",
   "metadata": {},
   "outputs": [
    {
     "name": "stdout",
     "output_type": "stream",
     "text": [
      "UPPERCASE\n"
     ]
    }
   ],
   "source": [
    "# 3 Convert a string t0 uppercase\n",
    "s3 = \"uppercase\"\n",
    "print(s3.upper())"
   ]
  },
  {
   "cell_type": "code",
   "execution_count": 4,
   "id": "26ebaf75-3fc7-481b-bb85-f37632da99cb",
   "metadata": {},
   "outputs": [
    {
     "name": "stdout",
     "output_type": "stream",
     "text": [
      "lowercase\n"
     ]
    }
   ],
   "source": [
    "# 4 Convert a string to lowercase\n",
    "s4 = \"LOWERcase\"\n",
    "print(s4.lower())"
   ]
  },
  {
   "cell_type": "code",
   "execution_count": 5,
   "id": "fa36ee3c-a347-4f63-8ef2-fad34cd6d482",
   "metadata": {},
   "outputs": [
    {
     "name": "stdout",
     "output_type": "stream",
     "text": [
      "Count of vowels: 6\n"
     ]
    }
   ],
   "source": [
    "# 5 Count no of vowels in string\n",
    "s5 = \"no of vowels in string\"\n",
    "v5 = 'aeiou'\n",
    "print(\"Count of vowels:\",sum(s5.count(i) for i in v5))"
   ]
  },
  {
   "cell_type": "code",
   "execution_count": 6,
   "id": "c09d90f7-7767-423d-bb90-d9898998da9c",
   "metadata": {},
   "outputs": [
    {
     "name": "stdout",
     "output_type": "stream",
     "text": [
      "19\n"
     ]
    }
   ],
   "source": [
    "# 6 Count no of constants in string\n",
    "s6 = \"no of constants in string\"\n",
    "v6 = 'aeiou'\n",
    "vcnt = sum(s5.count(i) for i in v6)\n",
    "print(len(s6)-vcnt)"
   ]
  },
  {
   "cell_type": "code",
   "execution_count": 7,
   "id": "fba7af8f-4ccf-485f-a465-df3d4d0a655e",
   "metadata": {},
   "outputs": [
    {
     "name": "stdout",
     "output_type": "stream",
     "text": [
      "String without space: Removeallwhitespacesfromastring\n"
     ]
    }
   ],
   "source": [
    "# 7 Remove all whitespaces from a string\n",
    "s7 = \"Remove all whitespaces from a string\"\n",
    "print(\"String without space:\", s7.replace(' ',''))"
   ]
  },
  {
   "cell_type": "code",
   "execution_count": 8,
   "id": "4119ae2b-3c95-45e4-b7d8-8593b6449927",
   "metadata": {},
   "outputs": [
    {
     "name": "stdout",
     "output_type": "stream",
     "text": [
      "16\n"
     ]
    }
   ],
   "source": [
    "# 8 Find the length of string without using the len() function\n",
    "s8 = 'length of string'\n",
    "cnt = 0\n",
    "for i in s8: \n",
    "    cnt+=1\n",
    "print(cnt)"
   ]
  },
  {
   "cell_type": "code",
   "execution_count": 9,
   "id": "b84a9cc0-dd15-4c4b-bde5-df99722ca725",
   "metadata": {},
   "outputs": [
    {
     "name": "stdout",
     "output_type": "stream",
     "text": [
      "True\n"
     ]
    }
   ],
   "source": [
    "# 9 check if string contains specific word\n",
    "s9 = \"check if string contains specific word\"\n",
    "print('specific' in s9)"
   ]
  },
  {
   "cell_type": "code",
   "execution_count": 10,
   "id": "cefbb73a-72ed-47a2-95a8-cebdc3d81366",
   "metadata": {},
   "outputs": [
    {
     "name": "stdout",
     "output_type": "stream",
     "text": [
      "Replace a word in a string with specific word\n"
     ]
    }
   ],
   "source": [
    "# 10 Replace a word in a string with another word\n",
    "s10 = \"Replace a word in a string with another word\"\n",
    "print(s10.replace('another','specific'))"
   ]
  },
  {
   "cell_type": "code",
   "execution_count": null,
   "id": "c33af044-ef27-48bf-9c98-cd8f6ea973f0",
   "metadata": {},
   "outputs": [],
   "source": []
  }
 ],
 "metadata": {
  "kernelspec": {
   "display_name": "Python 3 (ipykernel)",
   "language": "python",
   "name": "python3"
  },
  "language_info": {
   "codemirror_mode": {
    "name": "ipython",
    "version": 3
   },
   "file_extension": ".py",
   "mimetype": "text/x-python",
   "name": "python",
   "nbconvert_exporter": "python",
   "pygments_lexer": "ipython3",
   "version": "3.10.8"
  }
 },
 "nbformat": 4,
 "nbformat_minor": 5
}

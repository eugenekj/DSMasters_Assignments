{
 "cells": [
  {
   "cell_type": "code",
   "execution_count": null,
   "id": "5f5f7138-16ae-45dd-9514-470c22642268",
   "metadata": {},
   "outputs": [],
   "source": [
    "## Basic Level:"
   ]
  },
  {
   "cell_type": "code",
   "execution_count": 2,
   "id": "9a0f3db8-1ba0-4797-abb8-73aeeb8cf76d",
   "metadata": {},
   "outputs": [
    {
     "name": "stdout",
     "output_type": "stream",
     "text": [
      "1 2 3 4 5 6 7 8 9 10 "
     ]
    }
   ],
   "source": [
    "# 1. Write a Python program to print the numbers from 1 to 10 using a `for` loop.\n",
    "for i in range(10):\n",
    "    print(i+1, end = \" \")"
   ]
  },
  {
   "cell_type": "code",
   "execution_count": 3,
   "id": "68ba1ae7-86f0-4244-b85a-a46df98c4f50",
   "metadata": {},
   "outputs": [
    {
     "name": "stdout",
     "output_type": "stream",
     "text": [
      "15\n"
     ]
    }
   ],
   "source": [
    "# 2. Create a program that calculates the sum of all numbers in a list using a `for` loop.\n",
    "l = [1,2,3,4,5]\n",
    "print(sum(i for i in l))"
   ]
  },
  {
   "cell_type": "code",
   "execution_count": 6,
   "id": "277b68ba-2cbe-443c-b885-9821e9305e38",
   "metadata": {},
   "outputs": [
    {
     "name": "stdout",
     "output_type": "stream",
     "text": [
      "sllikswp"
     ]
    }
   ],
   "source": [
    "# 3. Write a program to print the characters of a string in reverse order using a `for` loop.\n",
    "str = \"pwskills\"\n",
    "for i in range((len(str)-1),-1,-1):\n",
    "    print(str[i],end = \"\")"
   ]
  },
  {
   "cell_type": "code",
   "execution_count": 7,
   "id": "0f5ea44a-e68a-49c1-8f4f-e03e32771b6d",
   "metadata": {},
   "outputs": [
    {
     "name": "stdin",
     "output_type": "stream",
     "text": [
      "Enter the number:  5\n"
     ]
    },
    {
     "name": "stdout",
     "output_type": "stream",
     "text": [
      "120\n"
     ]
    }
   ],
   "source": [
    "# 4. Develop a program that finds the factorial of a given number using a `for` loop.\n",
    "num=int(input(\"Enter the number: \"))\n",
    "fact=1\n",
    "for i in range(num,0,-1):\n",
    "    fact=fact*i\n",
    "print(fact)"
   ]
  },
  {
   "cell_type": "code",
   "execution_count": 8,
   "id": "b44a2a4e-f29a-4b0f-8229-8eee87e4bf9b",
   "metadata": {},
   "outputs": [
    {
     "name": "stdin",
     "output_type": "stream",
     "text": [
      "Enter the number:  5\n"
     ]
    },
    {
     "name": "stdout",
     "output_type": "stream",
     "text": [
      "5 * 1 = 5\n",
      "5 * 2 = 10\n",
      "5 * 3 = 15\n",
      "5 * 4 = 20\n",
      "5 * 5 = 25\n",
      "5 * 6 = 30\n",
      "5 * 7 = 35\n",
      "5 * 8 = 40\n",
      "5 * 9 = 45\n",
      "5 * 10 = 50\n"
     ]
    }
   ],
   "source": [
    "# 5. Create a program to print the multiplication table of a given number using a `for` loop.\n",
    "num=int(input(\"Enter the number: \"))\n",
    "for i in range(1,11):\n",
    "     print(f\"{num} * {i} =\",num*i)"
   ]
  },
  {
   "cell_type": "code",
   "execution_count": 10,
   "id": "fa5c2506-47aa-4a2c-8c13-df8a5dae2bf6",
   "metadata": {},
   "outputs": [
    {
     "name": "stdout",
     "output_type": "stream",
     "text": [
      "list has 6 even numbers and 7 odd numbers.\n"
     ]
    }
   ],
   "source": [
    "# 6. Write a program that counts the number of even and odd numbers in a list using a `for` loop.\n",
    "l=[1,2,3,4,5,6,7,8,9,10,11,12,13]\n",
    "odd=0\n",
    "even=0\n",
    "for i in range(len(l)):\n",
    "    if l[i]%2==0:\n",
    "        even=even+1\n",
    "    else:\n",
    "        odd=odd+1\n",
    "print(f\"list has {even} even numbers and {odd} odd numbers.\")"
   ]
  },
  {
   "cell_type": "code",
   "execution_count": 11,
   "id": "054e6ff2-31c4-43f0-9d61-229b7154b254",
   "metadata": {},
   "outputs": [
    {
     "name": "stdout",
     "output_type": "stream",
     "text": [
      "1 4 9 16 25 "
     ]
    }
   ],
   "source": [
    "# 7. Develop a program that prints the squares of numbers from 1 to 5 using a `for` loop.\n",
    "for i in range(1,6):\n",
    "    print(i**2, end = \" \")"
   ]
  },
  {
   "cell_type": "code",
   "execution_count": 13,
   "id": "09f77397-171a-4067-9e85-6cc958f6ead9",
   "metadata": {},
   "outputs": [
    {
     "name": "stdout",
     "output_type": "stream",
     "text": [
      "8\n"
     ]
    }
   ],
   "source": [
    "# 8. Create a program to find the length of a string without using the `len()` function.\n",
    "str=\"pwskills\"\n",
    "cnt=0\n",
    "for i in str:\n",
    "    cnt=cnt+1\n",
    "print(cnt)"
   ]
  },
  {
   "cell_type": "code",
   "execution_count": 14,
   "id": "2af6587c-9143-4b2f-bc6d-dd9d46f8aef2",
   "metadata": {},
   "outputs": [
    {
     "name": "stdout",
     "output_type": "stream",
     "text": [
      "3.0\n"
     ]
    }
   ],
   "source": [
    "# 9. Write a program that calculates the average of a list of numbers using a `for` loop.\n",
    "l=[1,2,3,4,5]\n",
    "s=sum(i for i in l)\n",
    "print(s/len(l))"
   ]
  },
  {
   "cell_type": "code",
   "execution_count": 15,
   "id": "a3625070-9258-4041-b2c8-001cda482a1d",
   "metadata": {},
   "outputs": [
    {
     "name": "stdin",
     "output_type": "stream",
     "text": [
      "Enter how many fibonacci numbers you want:  13\n"
     ]
    },
    {
     "name": "stdout",
     "output_type": "stream",
     "text": [
      "0 1 1 2 3 5 8 13 21 34 55 89 144 "
     ]
    }
   ],
   "source": [
    "# 10. Develop a program that prints the first `n` Fibonacci numbers using a `for` loop.\n",
    "n=int(input(\"Enter how many fibonacci numbers you want: \"))\n",
    "f=0\n",
    "s=1\n",
    "for i in range(n):\n",
    "    print(f, end=\" \")\n",
    "    temp=f\n",
    "    f=s\n",
    "    s=temp+s"
   ]
  },
  {
   "cell_type": "code",
   "execution_count": null,
   "id": "b1b03df9-2cec-4146-9f63-d0af4fdcffe9",
   "metadata": {},
   "outputs": [],
   "source": [
    "## Intermediate Level:"
   ]
  },
  {
   "cell_type": "code",
   "execution_count": 16,
   "id": "c90b8cb7-9954-45bf-af5d-69b02ae0c10d",
   "metadata": {},
   "outputs": [
    {
     "name": "stdout",
     "output_type": "stream",
     "text": [
      "List contain duplicate value\n"
     ]
    }
   ],
   "source": [
    "# 11. Write a program to check if a given list contains any duplicates using a `for` loop.\n",
    "l=[1,2,3,4,5,5,4,3,2,1]\n",
    "for i in l:\n",
    "    if l.count(i)>1:\n",
    "        flg = True\n",
    "if flg:\n",
    "    print(\"List contain duplicate value\")\n",
    "else:\n",
    "    print(\"List doesn't contain duplicate value\")"
   ]
  },
  {
   "cell_type": "code",
   "execution_count": 17,
   "id": "906661a0-f6f1-4404-8f8a-7ccfc4977400",
   "metadata": {},
   "outputs": [
    {
     "name": "stdin",
     "output_type": "stream",
     "text": [
      "Enter range for prime numbers:  15\n"
     ]
    },
    {
     "name": "stdout",
     "output_type": "stream",
     "text": [
      "1 2 3 5 7 11 13 "
     ]
    }
   ],
   "source": [
    "# 12. Create a program that prints the prime numbers in a given range using a `for` loop.\n",
    "n=int(input(\"Enter range for prime numbers: \"))\n",
    "for i in range(1,n):\n",
    "    count=0\n",
    "    for j in range(1,i):\n",
    "        if i%j==0:\n",
    "            count+=1\n",
    "    if count<2:\n",
    "        print(i, end=\" \")"
   ]
  },
  {
   "cell_type": "code",
   "execution_count": 18,
   "id": "cce037a5-3080-436e-be97-1a0ae470fafd",
   "metadata": {},
   "outputs": [
    {
     "name": "stdout",
     "output_type": "stream",
     "text": [
      "24\n"
     ]
    }
   ],
   "source": [
    "# 13. Develop a program that counts the number of vowels in a string using a `for` loop.\n",
    "s = \"Develop a program that counts the number of vowels in a string using a for loop\"\n",
    "cnt = 0\n",
    "vwls = \"aeiou\"\n",
    "for i in s:\n",
    "    if i.lower() in vwls:\n",
    "        cnt += 1\n",
    "print(cnt)       \n"
   ]
  },
  {
   "cell_type": "code",
   "execution_count": 20,
   "id": "be424d0c-0a67-4e73-bc07-ae79eb7fe5fe",
   "metadata": {},
   "outputs": [
    {
     "name": "stdout",
     "output_type": "stream",
     "text": [
      "12\n"
     ]
    }
   ],
   "source": [
    "# 14. Write a program to find the maximum element in a 2D list using a nested `for` loop.\n",
    "twodl = [[1,2,3],[10,11,12],[5,6,7]]\n",
    "max = 0\n",
    "for i in twodl:\n",
    "    for j in i:\n",
    "        if max < j:\n",
    "            max = j\n",
    "print(max)"
   ]
  },
  {
   "cell_type": "code",
   "execution_count": 21,
   "id": "f25f38cb-5f02-4790-890a-d8abf5fc2464",
   "metadata": {},
   "outputs": [
    {
     "name": "stdin",
     "output_type": "stream",
     "text": [
      "Enter element to delete: 3\n"
     ]
    },
    {
     "name": "stdout",
     "output_type": "stream",
     "text": [
      "[1, 2, 4, 5, 5, 4, 2, 1]\n"
     ]
    }
   ],
   "source": [
    "# 15. Create a program that removes all occurrences of a specific element from a list using a `for` loop.\n",
    "l = [1,2,3,4,5,5,4,3,2,1]\n",
    "n = int(input(\"Enter element to delete:\"))\n",
    "for i in l:\n",
    "    if i == n:\n",
    "        l.remove(i)\n",
    "print(l)"
   ]
  },
  {
   "cell_type": "code",
   "execution_count": 25,
   "id": "4d6f6e7f-5352-4f20-8690-cdbefbe616c9",
   "metadata": {},
   "outputs": [
    {
     "name": "stdout",
     "output_type": "stream",
     "text": [
      "1 * 1 = 1\n",
      "1 * 2 = 2\n",
      "1 * 3 = 3\n",
      "1 * 4 = 4\n",
      "1 * 5 = 5\n",
      "1 * 6 = 6\n",
      "1 * 7 = 7\n",
      "1 * 8 = 8\n",
      "1 * 9 = 9\n",
      "1 * 10 = 10\n",
      "\n",
      "2 * 1 = 2\n",
      "2 * 2 = 4\n",
      "2 * 3 = 6\n",
      "2 * 4 = 8\n",
      "2 * 5 = 10\n",
      "2 * 6 = 12\n",
      "2 * 7 = 14\n",
      "2 * 8 = 16\n",
      "2 * 9 = 18\n",
      "2 * 10 = 20\n",
      "\n",
      "3 * 1 = 3\n",
      "3 * 2 = 6\n",
      "3 * 3 = 9\n",
      "3 * 4 = 12\n",
      "3 * 5 = 15\n",
      "3 * 6 = 18\n",
      "3 * 7 = 21\n",
      "3 * 8 = 24\n",
      "3 * 9 = 27\n",
      "3 * 10 = 30\n",
      "\n",
      "4 * 1 = 4\n",
      "4 * 2 = 8\n",
      "4 * 3 = 12\n",
      "4 * 4 = 16\n",
      "4 * 5 = 20\n",
      "4 * 6 = 24\n",
      "4 * 7 = 28\n",
      "4 * 8 = 32\n",
      "4 * 9 = 36\n",
      "4 * 10 = 40\n",
      "\n",
      "5 * 1 = 5\n",
      "5 * 2 = 10\n",
      "5 * 3 = 15\n",
      "5 * 4 = 20\n",
      "5 * 5 = 25\n",
      "5 * 6 = 30\n",
      "5 * 7 = 35\n",
      "5 * 8 = 40\n",
      "5 * 9 = 45\n",
      "5 * 10 = 50\n",
      "\n"
     ]
    }
   ],
   "source": [
    "# 16. Develop a program that generates a multiplication table for numbers from 1 to 5 using a nested `for` loop.\n",
    "for i in range(1,6):\n",
    "    for j in range(1,11):\n",
    "         print(f\"{i} * {j} =\",i*j)\n",
    "    print(\"\")"
   ]
  },
  {
   "cell_type": "code",
   "execution_count": 26,
   "id": "096e4672-30d2-4c93-b479-f700d53fbfe8",
   "metadata": {},
   "outputs": [
    {
     "name": "stdout",
     "output_type": "stream",
     "text": [
      "[37.22222222222222, 39.44444444444444, 40.55555555555556]\n"
     ]
    }
   ],
   "source": [
    "# 17. Write a program that converts a list of Fahrenheit temperatures to Celsius using a `for` loop.\n",
    "far = [99, 103, 105]\n",
    "cel = []\n",
    "for i in far:\n",
    "    cel.append((5/9)*(i-32))\n",
    "print(cel)"
   ]
  },
  {
   "cell_type": "code",
   "execution_count": 27,
   "id": "e2e42ae3-6cad-4cc2-b693-c77bf64f3226",
   "metadata": {},
   "outputs": [
    {
     "name": "stdout",
     "output_type": "stream",
     "text": [
      "5 6 "
     ]
    }
   ],
   "source": [
    "# 18. Create a program to print the common elements from two lists using a `for` loop.\n",
    "l1 = [1,2,3,4,5,6]\n",
    "l2 = [10,9,8,7,6,5]\n",
    "for i in l1:\n",
    "    if i in l2:\n",
    "        print(i, end=\" \")"
   ]
  },
  {
   "cell_type": "code",
   "execution_count": 28,
   "id": "aa01bbb8-683e-42aa-912a-87c0ac993529",
   "metadata": {},
   "outputs": [
    {
     "name": "stdout",
     "output_type": "stream",
     "text": [
      "\n",
      "* \n",
      "* * \n",
      "* * * \n",
      "* * * * \n",
      "* * * * * \n"
     ]
    }
   ],
   "source": [
    "# 19. Develop a program that prints the pattern of right-angled triangles using a `for` loop. Use ‘*’ to draw the pattern\n",
    "for i in range(6):\n",
    "    for j in range(i):\n",
    "        print(\"*\", end=\" \")\n",
    "    print()"
   ]
  },
  {
   "cell_type": "code",
   "execution_count": 32,
   "id": "26d0714e-ec5e-4349-8959-fde0011d71af",
   "metadata": {},
   "outputs": [
    {
     "name": "stdin",
     "output_type": "stream",
     "text": [
      "Enter 1st number: 88\n",
      "Enter 2nd number: 20\n"
     ]
    },
    {
     "name": "stdout",
     "output_type": "stream",
     "text": [
      "4\n"
     ]
    }
   ],
   "source": [
    "# 20. Write a program to find the greatest common divisor (GCD) of two numbers using a `for` loop.\n",
    "n1 = int(input(\"Enter 1st number:\"))\n",
    "n2 = int(input(\"Enter 2nd number:\"))\n",
    "gcd=0\n",
    "for i in range(1,(n1+1)):\n",
    "    if n1%i==0 and n2%i==0:\n",
    "        gcd=i\n",
    "print(gcd)\n"
   ]
  },
  {
   "cell_type": "code",
   "execution_count": null,
   "id": "54c57664-ef3b-4d73-ae35-8dd09d51b624",
   "metadata": {},
   "outputs": [],
   "source": []
  }
 ],
 "metadata": {
  "kernelspec": {
   "display_name": "Python 3 (ipykernel)",
   "language": "python",
   "name": "python3"
  },
  "language_info": {
   "codemirror_mode": {
    "name": "ipython",
    "version": 3
   },
   "file_extension": ".py",
   "mimetype": "text/x-python",
   "name": "python",
   "nbconvert_exporter": "python",
   "pygments_lexer": "ipython3",
   "version": "3.10.10"
  }
 },
 "nbformat": 4,
 "nbformat_minor": 5
}

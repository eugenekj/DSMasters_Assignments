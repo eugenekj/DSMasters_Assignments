{
 "cells": [
  {
   "cell_type": "code",
   "execution_count": 66,
   "id": "35033a5e-d81b-4d18-8487-a917303adabc",
   "metadata": {},
   "outputs": [],
   "source": [
    "## TOPIC: Python Basics Variable"
   ]
  },
  {
   "cell_type": "code",
   "execution_count": 67,
   "id": "2d5f9e59-3cf2-4ff0-b78c-8d7ddcebeb3e",
   "metadata": {},
   "outputs": [
    {
     "name": "stdout",
     "output_type": "stream",
     "text": [
      "x before swap: 20\n",
      "y before swap: 10\n",
      "x after swap: 10\n",
      "y after swap: 20\n"
     ]
    }
   ],
   "source": [
    "## 1. Declare two variables, `x` and `y`, and assign them integer values.\n",
    "## Swap the values of these variables without using any temporary\n",
    "## variable.\n",
    "## Solution Approach: Addition and Subtraction Method\n",
    "## Store values in seperate variable x and y\n",
    "## Add x and y and store in x\n",
    "## Subtract y from x and store in y\n",
    "## Subtract x from y and store in x\n",
    "x = 20\n",
    "y = 10\n",
    "print('x before swap:', x)\n",
    "print('y before swap:', y)\n",
    "x = x + y\n",
    "y = x - y\n",
    "x = x - y\n",
    "print('x after swap:', x)\n",
    "print('y after swap:', y)"
   ]
  },
  {
   "cell_type": "code",
   "execution_count": 68,
   "id": "36b92d45-d0fd-44ed-9804-9138e8b493a9",
   "metadata": {},
   "outputs": [
    {
     "name": "stdin",
     "output_type": "stream",
     "text": [
      "length:  10\n",
      "width:  22.7\n"
     ]
    },
    {
     "name": "stdout",
     "output_type": "stream",
     "text": [
      "Length of rectangle: 10.0\n",
      "Width of rectangle: 22.7\n",
      "Area of rectangle: 227.0\n"
     ]
    }
   ],
   "source": [
    "# 2. Create a program that calculates the area of a rectangle. Take the\n",
    "# length and width as inputs from the user and store them in variables.\n",
    "# Calculate and display the area.\n",
    "# Solution Approach:\n",
    "## User input both length and width as floating datatype\n",
    "## Area of rectangle = length * width\n",
    "## Display the area\n",
    "l = float(input(\"length: \"))\n",
    "w = float(input(\"width: \"))\n",
    "print('Length of rectangle:' , l)\n",
    "print('Width of rectangle:' , w)\n",
    "a = l*w\n",
    "print('Area of rectangle:' , a)"
   ]
  },
  {
   "cell_type": "code",
   "execution_count": 69,
   "id": "9a97df1e-9d38-4551-9393-723f9ad6ad71",
   "metadata": {},
   "outputs": [
    {
     "name": "stdin",
     "output_type": "stream",
     "text": [
      "temperature in Celsius:  42.5\n"
     ]
    },
    {
     "name": "stdout",
     "output_type": "stream",
     "text": [
      "temperature in Celsius: 42.5\n",
      "temperature in Fahrenheit: 108.5\n"
     ]
    }
   ],
   "source": [
    "## 3. Write a Python program that converts temperature from Celsius to\n",
    "# Fahrenheit. Take the temperature in Celsius as input, store it in a\n",
    "# variable, convert it to Fahrenheit, and display the result.\n",
    "# Solution Approach:\n",
    "## User input temperature in celcius as floating datatype\n",
    "## Calculate Fahrenheit = (Celcius * 1.8) + 32\n",
    "## Display the temperature\n",
    "c = float(input(\"temperature in Celsius: \" ))  \n",
    "print('temperature in Celsius:' , c)\n",
    "f = (c * 1.8) + 32\n",
    "print('temperature in Fahrenheit:' , f)"
   ]
  },
  {
   "cell_type": "code",
   "execution_count": 63,
   "id": "b602b33c-a056-40cd-afc8-7799b1fd01aa",
   "metadata": {},
   "outputs": [],
   "source": [
    "## TOPIC: String Based Questions"
   ]
  },
  {
   "cell_type": "code",
   "execution_count": 70,
   "id": "0dad1d4f-7b97-402c-a48f-41e6f9bd45b1",
   "metadata": {},
   "outputs": [
    {
     "name": "stdin",
     "output_type": "stream",
     "text": [
      "Enter a string:  PwSkills Masters\n"
     ]
    },
    {
     "name": "stdout",
     "output_type": "stream",
     "text": [
      "Inputted String is: PwSkills Masters\n",
      "Length of the input string is: 16\n"
     ]
    }
   ],
   "source": [
    "## 1. Write a Python program that takes a string as input and prints the\n",
    "## length of the string.\n",
    "## Solution:\n",
    "# User inputs the string and it gets stored in variable s1\n",
    "s1 = input(\"Enter a string: \")\n",
    "print(\"Inputted String is:\",s1)\n",
    "# using len() function to find length of s1\n",
    "print(\"Length of the input string is:\", len(s1))"
   ]
  },
  {
   "cell_type": "code",
   "execution_count": 71,
   "id": "9d025f4d-4fd4-4936-aeb2-28a3549d060a",
   "metadata": {},
   "outputs": [
    {
     "name": "stdin",
     "output_type": "stream",
     "text": [
      "Enter the sentence:  Counts the number of vowels (a, e, i, o, u) In the string.\n"
     ]
    },
    {
     "name": "stdout",
     "output_type": "stream",
     "text": [
      "Inputted sentence is: Counts the number of vowels (a, e, i, o, u) In the string.\n",
      "Count of vowels: 16\n"
     ]
    }
   ],
   "source": [
    "## 2. Create a program that takes a sentence from the user and counts the\n",
    "## number of vowels (a, e, i, o, u) in the string.\n",
    "## Solution\n",
    "# User inputs the string and it gets stored in variable s0\n",
    "s0 = input(\"Enter the sentence: \")\n",
    "print(\"Inputted sentence is:\",s0)\n",
    "# convert sentence into lower case\n",
    "s1 = s0.lower()\n",
    "# count number of each vowel in s1 and store in variable\n",
    "c1 = s1.count('a')\n",
    "c1 = c1+s1.count('e')\n",
    "c1 = c1+s1.count('i')\n",
    "c1 = c1+s1.count('o')\n",
    "c1 = c1+s1.count('u')\n",
    "# Print the final count\n",
    "print(\"Count of vowels:\",c1)"
   ]
  },
  {
   "cell_type": "code",
   "execution_count": 72,
   "id": "e106bec5-c9f0-4440-b0f0-e6837a684026",
   "metadata": {},
   "outputs": [
    {
     "name": "stdout",
     "output_type": "stream",
     "text": [
      "Count of vowels: 16\n"
     ]
    }
   ],
   "source": [
    "## other approach is store all vowels in variable v1 and for each character in s1 check if present in v1\n",
    "v1 = 'aeiou'\n",
    "print(\"Count of vowels:\",sum(s1.count(i) for i in v1))"
   ]
  },
  {
   "cell_type": "code",
   "execution_count": 73,
   "id": "5484d0d3-6479-4608-83a5-6449c682b9cf",
   "metadata": {},
   "outputs": [
    {
     "name": "stdin",
     "output_type": "stream",
     "text": [
      "Enter a string:  PwSkills Masters\n"
     ]
    },
    {
     "name": "stdout",
     "output_type": "stream",
     "text": [
      "Inputted String is: PwSkills Masters\n",
      "String in reverse order: sretsaM sllikSwP\n"
     ]
    }
   ],
   "source": [
    "# 3. Given a string, reverse the order of characters using string slicing and\n",
    "# print the reversed string.\n",
    "## Solution\n",
    "# User inputs the string and it gets stored in variable s1\n",
    "s1 = input(\"Enter a string: \")\n",
    "print(\"Inputted String is:\",s1)\n",
    "# using slicing method with reverse order final parameter as -1 display the output\n",
    "# since we are reversing whole string we will keep first two parameters as blank\n",
    "print(\"String in reverse order:\", s1[::-1])"
   ]
  },
  {
   "cell_type": "code",
   "execution_count": 74,
   "id": "58b97064-6a00-475c-9bf0-4e54fd463dae",
   "metadata": {},
   "outputs": [
    {
     "name": "stdin",
     "output_type": "stream",
     "text": [
      "Enter a string:  malayalam\n"
     ]
    },
    {
     "name": "stdout",
     "output_type": "stream",
     "text": [
      "Inputted String is: malayalam\n",
      "malayalam is a palindrome\n"
     ]
    }
   ],
   "source": [
    "# 4. 4. Write a program that takes a string as input and checks if it is a\n",
    "# palindrome (reads the same forwards and backwards).\n",
    "## Solution\n",
    "# User inputs the string and it gets stored in variable s1\n",
    "s1 = input(\"Enter a string: \")\n",
    "print(\"Inputted String is:\",s1)\n",
    "# Reverse the string using slicing method and store in variable revs1\n",
    "revs1 = s1[::-1]\n",
    "# check if both variables s1 and revs1 are same or not using (==)\n",
    "# display output based on TRUE or FALSE of comparison in if-else condition\n",
    "if s1 == revs1:\n",
    "    print(s1, \"is a palindrome\")\n",
    "else:\n",
    "    print(s1, \"is not a palindrome\")"
   ]
  },
  {
   "cell_type": "code",
   "execution_count": 75,
   "id": "baa0f5bf-d9af-4585-8bdd-210e4b25201c",
   "metadata": {},
   "outputs": [
    {
     "name": "stdin",
     "output_type": "stream",
     "text": [
      "Enter a string:  PWSkills Data Science Masters\n"
     ]
    },
    {
     "name": "stdout",
     "output_type": "stream",
     "text": [
      "Inputted String is: PWSkills Data Science Masters\n",
      "String without space: PWSkillsDataScienceMasters\n"
     ]
    }
   ],
   "source": [
    "# 5. Create a program that takes a string as input and removes all the\n",
    "# spaces from it. Print the modified string without spaces.\n",
    "## Solution\n",
    "# User inputs the string and it gets stored in variable s1\n",
    "s1 = input(\"Enter a string: \")\n",
    "print(\"Inputted String is:\",s1)\n",
    "# use replace function to replce space (' ') with blank('') and display the output\n",
    "print(\"String without space:\", s1.replace(' ',''))"
   ]
  },
  {
   "cell_type": "code",
   "execution_count": null,
   "id": "e6297e9f-b0c3-43a7-a629-f7e3e727922b",
   "metadata": {},
   "outputs": [],
   "source": []
  }
 ],
 "metadata": {
  "kernelspec": {
   "display_name": "Python 3 (ipykernel)",
   "language": "python",
   "name": "python3"
  },
  "language_info": {
   "codemirror_mode": {
    "name": "ipython",
    "version": 3
   },
   "file_extension": ".py",
   "mimetype": "text/x-python",
   "name": "python",
   "nbconvert_exporter": "python",
   "pygments_lexer": "ipython3",
   "version": "3.10.8"
  }
 },
 "nbformat": 4,
 "nbformat_minor": 5
}
